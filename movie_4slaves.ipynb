{
 "cells": [
  {
   "cell_type": "markdown",
   "metadata": {},
   "source": [
    "## Build a Movie Recommendation Model with Apache Spark and Amazon EMR\n",
    "\n",
    "**COMP4651 2017 Spring Project**\n",
    "\n",
    "*O Pui Wai, opw0011 | CHAN Hon Sum, samchan1995 | TSUI Ka Wai, kwtsui *\n",
    "\n",
    "<img src=\"https://raw.githubusercontent.com/hortonworks/data-tutorials/1f3893c64bbf5ffeae4f1a5cbf1bd667dcea6b06/tutorials/hdp/hdp-2.6/intro-to-machine-learning-with-apache-spark-and-apache-zeppelin/assets/spark-mllib-logo.png\" align=\"left\" height=\"100\" >\n",
    "<img src=\"https://conceptdraw.com/a3131c3/p1/preview/640/pict--amazon-emr-aws-analytics-vector-stencils-library\" width=\"140\">\n",
    "\n",
    "\n",
    "### Introduction\n",
    "\n",
    "In this notebook, we are going to train a movie recommendation model using Spark MLib, a Spark's machine learning library . With the trained model, we can predict the movie ratings that a user is likely to give. As a result, we can make tailor-made moive recommendations based on the predicted rating, such listing out the top 25 highest rating moives that a user is likely to watch.   \n",
    "\n",
    "\n",
    "### Project Setup\n",
    "\n",
    "The dataset is placed on AWS S3. In order to access the files, fill in the `ACCESS_KEY`, `SECRETE_KEY` and `AWS_BUCKET_NAME`."
   ]
  },
  {
   "cell_type": "code",
   "execution_count": 1,
   "metadata": {
    "collapsed": true
   },
   "outputs": [],
   "source": [
    "# Set up AWS S3 access credentials\n",
    "ACCESS_KEY = \"FILL_IN_YOUR_KEY_HERE\"\n",
    "SECRET_KEY = \"FILL_IN_YOUR_KEY_HERE\"\n",
    "ENCODED_SECRET_KEY = SECRET_KEY.replace(\"/\", \"%2F\")\n",
    "AWS_BUCKET_NAME = \"sam4651-movie-data\""
   ]
  },
  {
   "cell_type": "markdown",
   "metadata": {},
   "source": [
    "#### Dataset Preparation\n",
    "\n",
    "The dataset that is used for traning the model is downloaded from [MovieLens](https://grouplens.org/datasets/movielens/), a movie recommendation service.\n",
    "\n",
    "We have downloaded two set the data:\n",
    "\n",
    "Small: 100,000 ratings and 1,300 tag applications applied to 9,000 movies by 700 users. (compressed size: 1 MB) \n",
    "\n",
    "- [ml-latest-small.zip](http://files.grouplens.org/datasets/movielens/ml-latest-small.zip) (Last updated 10/2016)\n",
    "\n",
    "Full: 24,000,000 ratings and 670,000 tag applications applied to 40,000 movies by 260,000 users. (compressed size: 224 MB)\n",
    "- [ml-latest.zip](http://files.grouplens.org/datasets/movielens/ml-latest.zip) (Last updated 10/2016)\n",
    "\n",
    "Then, we have uploaded all the files to AWS S3:\n",
    "\n",
    "![s3](https://cloud.githubusercontent.com/assets/10897048/26273579/459ee37a-3d65-11e7-8460-215adf4e7335.png)\n",
    "\n",
    "Since the raw data are in csv format, we need to write a function to convert the raw data into Spark DataFrame."
   ]
  },
  {
   "cell_type": "code",
   "execution_count": 2,
   "metadata": {
    "collapsed": true
   },
   "outputs": [],
   "source": [
    "# Convert csv file to Spark DataFrame (Databricks version)\n",
    "def loadDataFrame(fileName, fileSchema):\n",
    "  return (spark.read.format(\"org.apache.spark.sql.execution.datasources.csv.CSVFileFormat\")\n",
    "                    .schema(fileSchema)\n",
    "                    .option(\"header\", \"true\")\n",
    "                    .option(\"mode\", \"DROPMALFORMED\")\n",
    "                    .load(\"s3://%s/%s\" % (AWS_BUCKET_NAME, fileName)))"
   ]
  },
  {
   "cell_type": "markdown",
   "metadata": {},
   "source": [
    "#### Dataset Summary\n",
    "\n",
    "- `ratings-small.csv` is a small dataset extracted from the full rating dataset. It consists of the users' movie ratings, and has the following format:\n",
    "\n",
    " - `userId,movieId,rating,timestamp`\n",
    "\n",
    "- `movies-small.csv` is  a small dataset extracted from the full movie dataset. It consists of the details of the moive, and has the following format:\n",
    "\n",
    " - `movieId,title,genres`\n",
    "\n",
    "In order to parse the csv into DataFrame, we have to explicitly specify the data type of each field."
   ]
  },
  {
   "cell_type": "code",
   "execution_count": 3,
   "metadata": {
    "collapsed": true
   },
   "outputs": [],
   "source": [
    "from pyspark.sql.types import *\n",
    "\n",
    "movieRatingSchema = StructType([\n",
    "    StructField(\"userId\", IntegerType(), True),\n",
    "    StructField(\"movieId\", IntegerType(), True),\n",
    "    StructField(\"rating\", FloatType(), True),\n",
    "    StructField(\"timestamp\", StringType(), True)])\n",
    "\n",
    "movieSchema = StructType([\n",
    "    StructField(\"movieId\", IntegerType(), True),\n",
    "    StructField(\"title\", StringType(), True),\n",
    "    StructField(\"genres\", StringType(), True)])\n",
    "\n",
    "smallMovieRatingsDF = loadDataFrame(\"ratings-small.csv\", movieRatingSchema).cache()\n",
    "smallMoviesDF = loadDataFrame(\"movies-small.csv\", movieSchema).cache()"
   ]
  },
  {
   "cell_type": "markdown",
   "metadata": {},
   "source": [
    "After successfully created the Dataframe, we can verify it by printing the DataFrame schema. \n",
    "\n",
    "Also, we can write some code using the [Spark DataFrame API](http://spark.apache.org/docs/2.1.0/api/python/pyspark.sql.html#pyspark.sql.DataFrame) to get a more detailed dataset summary."
   ]
  },
  {
   "cell_type": "code",
   "execution_count": 4,
   "metadata": {},
   "outputs": [
    {
     "name": "stdout",
     "output_type": "stream",
     "text": [
      "root\n",
      " |-- userId: integer (nullable = true)\n",
      " |-- movieId: integer (nullable = true)\n",
      " |-- rating: float (nullable = true)\n",
      " |-- timestamp: string (nullable = true)\n",
      "\n",
      "+------+-------+------+----------+\n",
      "|userId|movieId|rating| timestamp|\n",
      "+------+-------+------+----------+\n",
      "|     1|     31|   2.5|1260759144|\n",
      "|     1|   1029|   3.0|1260759179|\n",
      "|     1|   1061|   3.0|1260759182|\n",
      "|     1|   1129|   2.0|1260759185|\n",
      "|     1|   1172|   4.0|1260759205|\n",
      "+------+-------+------+----------+\n",
      "only showing top 5 rows\n",
      "\n",
      "root\n",
      " |-- movieId: integer (nullable = true)\n",
      " |-- title: string (nullable = true)\n",
      " |-- genres: string (nullable = true)\n",
      "\n",
      "+-------+--------------------+--------------------+\n",
      "|movieId|               title|              genres|\n",
      "+-------+--------------------+--------------------+\n",
      "|      1|    Toy Story (1995)|Adventure|Animati...|\n",
      "|      2|      Jumanji (1995)|Adventure|Childre...|\n",
      "|      3|Grumpier Old Men ...|      Comedy|Romance|\n",
      "|      4|Waiting to Exhale...|Comedy|Drama|Romance|\n",
      "|      5|Father of the Bri...|              Comedy|\n",
      "+-------+--------------------+--------------------+\n",
      "only showing top 5 rows\n",
      "\n"
     ]
    }
   ],
   "source": [
    "# Print out the DataFrame shcema, and a few lines as example\n",
    "smallMovieRatingsDF.printSchema()\n",
    "smallMovieRatingsDF.show(5)\n",
    "\n",
    "smallMoviesDF.printSchema()\n",
    "smallMoviesDF.show(5)"
   ]
  },
  {
   "cell_type": "code",
   "execution_count": 5,
   "metadata": {},
   "outputs": [
    {
     "name": "stdout",
     "output_type": "stream",
     "text": [
      "Number of ratings: 100004\n",
      "Number of distinct users: 671\n",
      "Number of distinct movies: 9066\n",
      "+-----------------+-----------+-----------+-------------------+\n",
      "|      avg(rating)|min(rating)|max(rating)|stddev_samp(rating)|\n",
      "+-----------------+-----------+-----------+-------------------+\n",
      "|3.543608255669773|        0.5|        5.0| 1.0580641091070326|\n",
      "+-----------------+-----------+-----------+-------------------+\n",
      "\n",
      "+------+-----+\n",
      "|rating|count|\n",
      "+------+-----+\n",
      "|   0.5| 1101|\n",
      "|   1.0| 3326|\n",
      "|   1.5| 1687|\n",
      "|   2.0| 7271|\n",
      "|   2.5| 4449|\n",
      "|   3.0|20064|\n",
      "|   3.5|10538|\n",
      "|   4.0|28750|\n",
      "|   4.5| 7723|\n",
      "|   5.0|15095|\n",
      "+------+-----+\n",
      "\n"
     ]
    }
   ],
   "source": [
    "from pyspark.sql.functions import mean, min, max, stddev\n",
    "\n",
    "# Data summary of the dataset\n",
    "print \"Number of ratings: %s\" % (smallMovieRatingsDF.count())\n",
    "print \"Number of distinct users: %s\" % (smallMovieRatingsDF.select('userId').distinct().count())\n",
    "print \"Number of distinct movies: %s\" % (smallMovieRatingsDF.select('movieId').distinct().count())\n",
    "smallMovieRatingsDF.select([mean('rating'), min('rating'), max('rating'), stddev('rating')]).show()\n",
    "smallMovieRatingsDF.groupBy('rating').count().orderBy('rating').show()"
   ]
  },
  {
   "cell_type": "markdown",
   "metadata": {},
   "source": [
    "### Model Training\n",
    "\n",
    "#### Overview\n",
    "\n",
    "MLlib is Spark’s machine learning (ML) library. It provides high-level machine learning API to develop scalable machine learning program easily.\n",
    "\n",
    "Spark MLLib provides two machine learning packages, namely `spark.mllib` and `spark.ml`.\n",
    "\n",
    "`spark.mllib` consists of RDD-based APIs that supports RDD as the input parameters. However, it is expected that in Spark 2.2, the RDD-based API will be deprecated.\n",
    "\n",
    "On the contrary, the DataFrame-based APIs in `spark.ml` is the latest trend in Spark, because DataFrames provide a more user-friendly API than RDDs. Besides, it has better execution performance, such as the Catalyst optimizations.\n",
    "\n",
    "For more detailed explanations, please visit [Spark's offical MLlib guide](https://spark.apache.org/docs/2.1.0/ml-guide.html).\n",
    "\n",
    "As suggested by Spark offical programming guide, we will mainly use the DataFrame-based [pyspark.ml.recommendation module](https://spark.apache.org/docs/2.1.0/api/python/pyspark.ml.html#module-pyspark.ml.recommendation) for doing collaborative filtering.\n",
    "\n",
    "#### Collaborative Filtering\n",
    "\n",
    "Coolaborative filtering make predictions about a user's interests by collecting preferences information from many users. It is based on the assumption that if a user A has the same opinion as a user B on an issue, then A is more likely to have B's opinion on a different issue. The image below illustrates this idea:\n",
    "\n",
    "![collaborative Filtering](https://upload.wikimedia.org/wikipedia/commons/5/52/Collaborative_filtering.gif) \n",
    "\n",
    "*(Image from [Wikipedia](https://en.wikipedia.org/wiki/Collaborative_filtering))*\n",
    "\n",
    "In Spark ML library, it uses Alternating Least Squares (ALS) matrix factorization to perform recommendation. \n",
    "\n",
    "- rank is the number of latent factors in the model. In other words, it referes to the number of hidden factors of the real model.\n",
    "\n",
    "- regParam specifies the regularization parameter in ALS.\n",
    "\n",
    "Of course we do not know how many underlying factors for the real model, so we have to make a reasonalble guess on those paramters, and choose the best combination after doing evaluations.  \n",
    "\n",
    "\n",
    "#### Pick the Best ALS Parameters with Samll Dataset\n",
    "\n",
    "In order to determine a good combination of model training parameters, we will split the small dataset into 3 non-overlapping subsets, namely traning (60%), validation (20%) and testing (20%), with [randomSplit](http://spark.apache.org/docs/2.1.0/api/python/pyspark.sql.html#pyspark.sql.DataFrame.randomSplit).\n",
    "\n",
    "Then, we have designed two list of parameters that will be used for traning:\n",
    "```\n",
    "ranks = [2, 4, 8, 12, 16, 20, 24]\n",
    "regParams = [0.01, 0.05, 0.1, 0.15, 0.2, 0.3]\n",
    "```\n",
    "We are going to train multiple models based on the training set. Then, we will pick the best model on the validation set with the least RMSE (Root Mean Squared Error). Finally, we will evaluate the best model on the testing set."
   ]
  },
  {
   "cell_type": "code",
   "execution_count": 6,
   "metadata": {
    "collapsed": true
   },
   "outputs": [],
   "source": [
    "# Partition the dataset into traning, validation and testing for cross-validation\n",
    "(trainingSet, validationSet, testingSet) = smallMovieRatingsDF.randomSplit([0.6, 0.2, 0.2], seed=12345)\n",
    "training = trainingSet.cache()\n",
    "validation = validationSet.cache()\n",
    "testing = testingSet.cache()"
   ]
  },
  {
   "cell_type": "code",
   "execution_count": 7,
   "metadata": {},
   "outputs": [
    {
     "name": "stdout",
     "output_type": "stream",
     "text": [
      "For rank 2, regParams 0.01, the RMSE is 1.04319473008\n",
      "For rank 4, regParams 0.01, the RMSE is 1.10436267472\n",
      "For rank 8, regParams 0.01, the RMSE is 1.2182689144\n",
      "For rank 12, regParams 0.01, the RMSE is 1.26969714845\n",
      "For rank 16, regParams 0.01, the RMSE is 1.32616653791\n",
      "For rank 20, regParams 0.01, the RMSE is 1.35645610663\n",
      "For rank 24, regParams 0.01, the RMSE is 1.40657975364\n",
      "For rank 2, regParams 0.05, the RMSE is 0.967552286834\n",
      "For rank 4, regParams 0.05, the RMSE is 0.984831043739\n",
      "For rank 8, regParams 0.05, the RMSE is 1.02980383782\n",
      "For rank 12, regParams 0.05, the RMSE is 1.04639489713\n",
      "For rank 16, regParams 0.05, the RMSE is 1.05319477145\n",
      "For rank 20, regParams 0.05, the RMSE is 1.05157653186\n",
      "For rank 24, regParams 0.05, the RMSE is 1.04739278427\n",
      "For rank 2, regParams 0.1, the RMSE is 0.945622478811\n",
      "For rank 4, regParams 0.1, the RMSE is 0.938935473923\n",
      "For rank 8, regParams 0.1, the RMSE is 0.953535427048\n",
      "For rank 12, regParams 0.1, the RMSE is 0.954305904886\n",
      "For rank 16, regParams 0.1, the RMSE is 0.955999683446\n",
      "For rank 20, regParams 0.1, the RMSE is 0.952497444394\n",
      "For rank 24, regParams 0.1, the RMSE is 0.950737584257\n",
      "For rank 2, regParams 0.15, the RMSE is 0.937943036815\n",
      "For rank 4, regParams 0.15, the RMSE is 0.923714958706\n",
      "For rank 8, regParams 0.15, the RMSE is 0.929057053333\n",
      "For rank 12, regParams 0.15, the RMSE is 0.929453641208\n",
      "For rank 16, regParams 0.15, the RMSE is 0.930103852637\n",
      "For rank 20, regParams 0.15, the RMSE is 0.929151150013\n",
      "For rank 24, regParams 0.15, the RMSE is 0.930462489825\n",
      "For rank 2, regParams 0.2, the RMSE is 0.938739922931\n",
      "For rank 4, regParams 0.2, the RMSE is 0.923620033599\n",
      "For rank 8, regParams 0.2, the RMSE is 0.92619172072\n",
      "For rank 12, regParams 0.2, the RMSE is 0.927326161559\n",
      "For rank 16, regParams 0.2, the RMSE is 0.927407466579\n",
      "For rank 20, regParams 0.2, the RMSE is 0.927757753913\n",
      "For rank 24, regParams 0.2, the RMSE is 0.929563279032\n",
      "For rank 2, regParams 0.3, the RMSE is 0.956381895388\n",
      "For rank 4, regParams 0.3, the RMSE is 0.947972925084\n",
      "For rank 8, regParams 0.3, the RMSE is 0.948704315336\n",
      "For rank 12, regParams 0.3, the RMSE is 0.95025192695\n",
      "For rank 16, regParams 0.3, the RMSE is 0.950167146788\n",
      "For rank 20, regParams 0.3, the RMSE is 0.950257945801\n",
      "For rank 24, regParams 0.3, the RMSE is 0.951246374262\n",
      "Trained 42 models in 406.589 seconds\n",
      "Best Rank = 4, Best regParam = 0.2, with RMSE = 0.923620033599\n"
     ]
    }
   ],
   "source": [
    "# Use ml instead of mlib for Dataframes\n",
    "# http://spark.apache.org/docs/latest/api/python/pyspark.ml.html#pyspark.ml.recommendation.ALS\n",
    "from pyspark.ml.recommendation import ALS\n",
    "from pyspark.ml.evaluation import RegressionEvaluator\n",
    "from pyspark.sql import Row\n",
    "from time import time\n",
    "\n",
    "ranks = [2, 4, 8, 12, 16, 20, 24]\n",
    "regParams = [0.01, 0.05, 0.1, 0.15, 0.2, 0.3]\n",
    "minError = float('inf')\n",
    "bestRank = -1\n",
    "bestRegParam = -1\n",
    "bestModel = None\n",
    "\n",
    "# An RMSE evaluator using the rating and predicted rating columns\n",
    "evaluator = RegressionEvaluator(metricName=\"rmse\", labelCol=\"rating\", predictionCol=\"prediction\")\n",
    "# Initialize the ASL(Alternating Least Squares)\n",
    "als = ALS(userCol = \"userId\", itemCol = \"movieId\", ratingCol = \"rating\", seed = 12345)\n",
    "\n",
    "timeBegin = time()\n",
    "\n",
    "for regParam in regParams:\n",
    "  for rank in ranks:\n",
    "    # Build the recommendation model using ALS on the training data\n",
    "    als.setParams(rank = rank, regParam = regParam)\n",
    "    model = als.fit(training)\n",
    "\n",
    "    # Evaluate the model by computing the RMSE on the validation data\n",
    "    predictions = model.transform(validation)\n",
    "    predictions = predictions.dropna() # drop all NaN prediction value to ensure not to have NaN RMSE (due to SPARK-14489)\n",
    "    error = evaluator.evaluate(predictions)\n",
    "    \n",
    "    if error < minError:\n",
    "      bestRank = rank\n",
    "      bestRegParam = regParam\n",
    "      minError = error\n",
    "      bestModel = model\n",
    "    print 'For rank %s, regParams %s, the RMSE is %s' % (rank, regParam, error)\n",
    "\n",
    "timeElapsed = time() - timeBegin\n",
    "print \"Trained %s models in %s seconds\" % (len(ranks) * len(regParams), round(timeElapsed, 3))\n",
    "print(\"Best Rank = %s, Best regParam = %s, with RMSE = %s\"  % (bestRank, bestRegParam, minError))"
   ]
  },
  {
   "cell_type": "code",
   "execution_count": 8,
   "metadata": {},
   "outputs": [
    {
     "name": "stdout",
     "output_type": "stream",
     "text": [
      "The model had a RMSE of 0.92135713373 on test dataset\n"
     ]
    }
   ],
   "source": [
    "# After getting the best rank and RegParam, test the model on test dataset\n",
    "predictions = bestModel.transform(testing)\n",
    "predictions = predictions.dropna() # drop all NaN prediction value to ensure not to have NaN RMSE (due to SPARK-14489)\n",
    "rmse = evaluator.evaluate(predictions)\n",
    "print(\"The model had a RMSE of %s on test dataset\"  % (rmse))"
   ]
  },
  {
   "cell_type": "markdown",
   "metadata": {},
   "source": [
    "#### Train the Model with Full Dataset\n",
    "\n",
    "After we have found out the best training parameters with the samll dataset, now we are going to use them for training the full dataset (~600MB in size).\n",
    "\n",
    "During the traning, we will record the time spent to train the whole dataset."
   ]
  },
  {
   "cell_type": "code",
   "execution_count": 9,
   "metadata": {
    "collapsed": true
   },
   "outputs": [],
   "source": [
    "# Train the full data set and calculate the time elapsed\n",
    "MovieRatingsDF = loadDataFrame(\"ratings.csv\", movieRatingSchema).cache()\n",
    "MoviesDF = loadDataFrame(\"movies.csv\", movieSchema).cache()"
   ]
  },
  {
   "cell_type": "code",
   "execution_count": 10,
   "metadata": {},
   "outputs": [
    {
     "name": "stdout",
     "output_type": "stream",
     "text": [
      "Number of ratings: 24404096\n",
      "Number of distinct users: 259137\n",
      "Number of rated distinct movies: 39443\n",
      "Total number of movies: 40110\n",
      "+------------------+-----------+-----------+-------------------+\n",
      "|       avg(rating)|min(rating)|max(rating)|stddev_samp(rating)|\n",
      "+------------------+-----------+-----------+-------------------+\n",
      "|3.5265681220070597|        0.5|        5.0| 1.0642182955183286|\n",
      "+------------------+-----------+-----------+-------------------+\n",
      "\n",
      "Distribution of ratings:\n",
      "+------+-------+\n",
      "|rating|  count|\n",
      "+------+-------+\n",
      "|   0.5| 361006|\n",
      "|   1.0| 807991|\n",
      "|   1.5| 369879|\n",
      "|   2.0|1681993|\n",
      "|   2.5|1145168|\n",
      "|   3.0|5011914|\n",
      "|   3.5|2840765|\n",
      "|   4.0|6620340|\n",
      "|   4.5|1984982|\n",
      "|   5.0|3580058|\n",
      "+------+-------+\n",
      "\n",
      "Average number of ratings per movie: 618.71804883\n"
     ]
    }
   ],
   "source": [
    "# Data summary of the full dataset on movie rating\n",
    "print \"Number of ratings: %s\" % (MovieRatingsDF.count())\n",
    "print \"Number of distinct users: %s\" % (MovieRatingsDF.select('userId').distinct().count())\n",
    "print \"Number of rated distinct movies: %s\" % (MovieRatingsDF.select('movieId').distinct().count())\n",
    "print \"Total number of movies: %s\" % (MoviesDF.select('movieId').count())\n",
    "\n",
    "MovieRatingsDF.select([mean('rating'), min('rating'), max('rating'), stddev('rating')]).show()\n",
    "\n",
    "print \"Distribution of ratings:\"\n",
    "MovieRatingsDF.groupBy('rating').count().orderBy('rating').show()\n",
    "RatingsCountGroupByMovieId = MovieRatingsDF.groupBy('movieId').count()\n",
    "print \"Average number of ratings per movie: %s\" % (RatingsCountGroupByMovieId.select(mean('count')).first())"
   ]
  },
  {
   "cell_type": "code",
   "execution_count": 12,
   "metadata": {},
   "outputs": [
    {
     "name": "stdout",
     "output_type": "stream",
     "text": [
      "Training full data set with Rank = 4, regParam = 0.2 ...\n",
      "Final model trained in 30.718 seconds\n"
     ]
    }
   ],
   "source": [
    "als.setParams(rank = bestRank, regParam = bestRegParam)\n",
    "print \"Training full data set with Rank = %s, regParam = %s ...\" % (bestRank, bestRegParam)\n",
    "\n",
    "timeBegin = time()\n",
    "\n",
    "model = als.fit(MovieRatingsDF) # use the full dataset for training\n",
    "\n",
    "timeElapsed = time() - timeBegin\n",
    "\n",
    "print \"Final model trained in %s seconds\" % round(timeElapsed, 3)"
   ]
  },
  {
   "cell_type": "code",
   "execution_count": 13,
   "metadata": {},
   "outputs": [
    {
     "name": "stdout",
     "output_type": "stream",
     "text": [
      "The final model had a RMSE of 1.06072565869\n"
     ]
    }
   ],
   "source": [
    "# Evaluate the performance of the final model with the testing data\n",
    "predictions = model.transform(testing)\n",
    "predictions = predictions.dropna() # drop all NaN prediction value to ensure not to have NaN RMSE (due to SPARK-14489)\n",
    "rmse = evaluator.evaluate(predictions)\n",
    "print(\"The final model had a RMSE of %s\"  % (rmse))"
   ]
  },
  {
   "cell_type": "markdown",
   "metadata": {},
   "source": [
    "### Moive Recommendations\n",
    "\n",
    "After we have trained the model, now it is time to use the model to predict users' movie ratings.\n",
    "\n",
    "The high level idea is like that:\n",
    "\n",
    "1. We pick a user, and get a list of movie that he/she has rated.\n",
    "\n",
    "2. From the full movie list, we exclude all the moive that the user has rated, and construct a list of un-rated movie list.\n",
    "\n",
    "3. The movies in the un-rated list are now in the pool of recommendation. They are then inputed into the model.\n",
    "\n",
    "4. Now, each un-rated movies will get a unique predicted rating based other similar users' ratings. \n",
    "\n",
    "5. Finally, we simply do a sorting to find the top N moives with the highest predicted rating. Besides, we can also make recommendation based on moive's categories.\n",
    "\n",
    "#### Our First Try\n",
    "\n",
    "We follow the idea illustrated above and pick a user with UserId = 1000, and try to make a movie recommendation to him/her.\n",
    "\n",
    "In the following example, we try to print out some movies that he/she has and has not watched before respectively, and then make predictions on all the unwatched movies."
   ]
  },
  {
   "cell_type": "code",
   "execution_count": 14,
   "metadata": {},
   "outputs": [
    {
     "name": "stdout",
     "output_type": "stream",
     "text": [
      "User 1000 has watched and rated 49 moive (sorted by rating):\n",
      "+-------+------+--------------------------------------------+------+\n",
      "|movieId|userId|title                                       |rating|\n",
      "+-------+------+--------------------------------------------+------+\n",
      "|7361   |1000  |Eternal Sunshine of the Spotless Mind (2004)|5.0   |\n",
      "|8784   |1000  |Garden State (2004)                         |5.0   |\n",
      "|2762   |1000  |Sixth Sense, The (1999)                     |5.0   |\n",
      "|46578  |1000  |Little Miss Sunshine (2006)                 |5.0   |\n",
      "|111362 |1000  |X-Men: Days of Future Past (2014)           |5.0   |\n",
      "|1265   |1000  |Groundhog Day (1993)                        |5.0   |\n",
      "|4878   |1000  |Donnie Darko (2001)                         |5.0   |\n",
      "|92259  |1000  |Intouchables (2011)                         |5.0   |\n",
      "|527    |1000  |Schindler's List (1993)                     |4.5   |\n",
      "|60069  |1000  |WALL·E (2008)                               |4.5   |\n",
      "|8972   |1000  |National Treasure (2004)                    |4.0   |\n",
      "|2959   |1000  |Fight Club (1999)                           |4.0   |\n",
      "|33794  |1000  |Batman Begins (2005)                        |4.0   |\n",
      "|106920 |1000  |Her (2013)                                  |4.0   |\n",
      "|3147   |1000  |Green Mile, The (1999)                      |4.0   |\n",
      "|356    |1000  |Forrest Gump (1994)                         |4.0   |\n",
      "|45499  |1000  |X-Men: The Last Stand (2006)                |4.0   |\n",
      "|58559  |1000  |Dark Knight, The (2008)                     |4.0   |\n",
      "|8961   |1000  |Incredibles, The (2004)                     |4.0   |\n",
      "|6333   |1000  |X2: X-Men United (2003)                     |4.0   |\n",
      "+-------+------+--------------------------------------------+------+\n",
      "only showing top 20 rows\n",
      "\n",
      "40061 unwatched movie:\n",
      "+-------+-------------------------------------+-------------------------------------------+------+\n",
      "|movieId|title                                |genres                                     |userId|\n",
      "+-------+-------------------------------------+-------------------------------------------+------+\n",
      "|1      |Toy Story (1995)                     |Adventure|Animation|Children|Comedy|Fantasy|1000  |\n",
      "|2      |Jumanji (1995)                       |Adventure|Children|Fantasy                 |1000  |\n",
      "|3      |Grumpier Old Men (1995)              |Comedy|Romance                             |1000  |\n",
      "|4      |Waiting to Exhale (1995)             |Comedy|Drama|Romance                       |1000  |\n",
      "|5      |Father of the Bride Part II (1995)   |Comedy                                     |1000  |\n",
      "|6      |Heat (1995)                          |Action|Crime|Thriller                      |1000  |\n",
      "|7      |Sabrina (1995)                       |Comedy|Romance                             |1000  |\n",
      "|8      |Tom and Huck (1995)                  |Adventure|Children                         |1000  |\n",
      "|9      |Sudden Death (1995)                  |Action                                     |1000  |\n",
      "|10     |GoldenEye (1995)                     |Action|Adventure|Thriller                  |1000  |\n",
      "|11     |American President, The (1995)       |Comedy|Drama|Romance                       |1000  |\n",
      "|12     |Dracula: Dead and Loving It (1995)   |Comedy|Horror                              |1000  |\n",
      "|13     |Balto (1995)                         |Adventure|Animation|Children               |1000  |\n",
      "|14     |Nixon (1995)                         |Drama                                      |1000  |\n",
      "|15     |Cutthroat Island (1995)              |Action|Adventure|Romance                   |1000  |\n",
      "|16     |Casino (1995)                        |Crime|Drama                                |1000  |\n",
      "|17     |Sense and Sensibility (1995)         |Drama|Romance                              |1000  |\n",
      "|18     |Four Rooms (1995)                    |Comedy                                     |1000  |\n",
      "|19     |Ace Ventura: When Nature Calls (1995)|Comedy                                     |1000  |\n",
      "|20     |Money Train (1995)                   |Action|Comedy|Crime|Drama|Thriller         |1000  |\n",
      "+-------+-------------------------------------+-------------------------------------------+------+\n",
      "only showing top 20 rows\n",
      "\n"
     ]
    }
   ],
   "source": [
    "from pyspark.sql.functions import lit\n",
    "UserId = 1000\n",
    "userWatchedList = (MovieRatingsDF.filter(MovieRatingsDF.userId == UserId)\n",
    "                                 .join(MoviesDF, 'movieId')\n",
    "                                 .select(['movieId', 'userId', 'title', 'rating']))\n",
    "watchedMovieList = []\n",
    "for movie in userWatchedList.collect():\n",
    "  watchedMovieList.append(movie.movieId)\n",
    "print \"User %s has watched and rated %s moive (sorted by rating):\" % (UserId, len(watchedMovieList)) \n",
    "userWatchedList.orderBy('rating', ascending = False).show(20, False)\n",
    "\n",
    "# find out the unwatched list and append with the userid\n",
    "userUnwatchedList = (MoviesDF.filter(MoviesDF.movieId.isin(watchedMovieList) == False).withColumn('userId', lit(UserId)).cache())\n",
    "print \"%s unwatched movie:\" % (userUnwatchedList.count())\n",
    "userUnwatchedList.show(20, False)\n",
    "\n",
    "predictedMovies = model.transform(userUnwatchedList)\n",
    "predictedMovies = predictedMovies.dropna().cache() # drop all NaN prediction value to ensure not to have NaN RMSE (due to SPARK-14489)"
   ]
  },
  {
   "cell_type": "markdown",
   "metadata": {},
   "source": [
    "#### Our First Try Result\n",
    "\n",
    "As you can see in the folliwng, we have list out the top 25 moives with the highest rating. \n",
    "\n",
    "However, we got some strange movies that have not be heard before. For example, take \"The Thorn (1971)\" as an example, try to search it on IMDB.\n",
    "\n",
    "![the-thorn](https://cloud.githubusercontent.com/assets/10897048/26272746/1e6cdc38-3d53-11e7-9483-554bf6b98e2d.png)\n",
    "\n",
    "**The problem is ONLY 48 people have rated this moive!**\n",
    "\n",
    "Since the sampling size is relatively too small, it may not be representative. There might be some biases on the ratings. Besides, a user may not be interested in watching unpopular moive. In order to fix this problem, we need to filter out those unknown movies."
   ]
  },
  {
   "cell_type": "code",
   "execution_count": 15,
   "metadata": {},
   "outputs": [
    {
     "name": "stdout",
     "output_type": "stream",
     "text": [
      "Top 25 predicted movie with highest rating:\n",
      "+-------+------------------------------------------------------+------------------+------+----------+\n",
      "|movieId|title                                                 |genres            |userId|prediction|\n",
      "+-------+------------------------------------------------------+------------------+------+----------+\n",
      "|151989 |The Thorn (1971)                                      |Comedy            |1000  |6.5789576 |\n",
      "|107434 |Diplomatic Immunity (2009– )                          |Comedy            |1000  |5.872571  |\n",
      "|107252 |Island at War (2004)                                  |Drama|War         |1000  |5.872571  |\n",
      "|162368 |The Russian Woodpecker (2015)                         |Documentary       |1000  |5.783242  |\n",
      "|156801 |The Magician (1898)                                   |Drama|Fantasy     |1000  |5.737048  |\n",
      "|164937 |Love Is Blind (2013)                                  |Drama|Romance     |1000  |5.4767203 |\n",
      "|144202 |Catch That Girl (2002)                                |Action|Children   |1000  |5.4273605 |\n",
      "|151615 |Hello Stranger (2010)                                 |Drama             |1000  |5.4151354 |\n",
      "|110108 |Asphalt Playground (La cité rose) (2012)              |Comedy            |1000  |5.313552  |\n",
      "|162876 |Big Beat (1993)                                       |Comedy            |1000  |5.2903347 |\n",
      "|132912 |Emmanuelle 5 (1987)                                   |(no genres listed)|1000  |5.244452  |\n",
      "|139074 |The Marriage of Figaro (1975)                         |Comedy            |1000  |5.2198753 |\n",
      "|105144 |Bare Knuckles (2010)                                  |Action|Drama      |1000  |5.2146783 |\n",
      "|155619 |Neue Vahr Süd (2010)                                  |Comedy            |1000  |5.2047963 |\n",
      "|143571 |Private Practices: The Story of a Sex Surrogate (1986)|Documentary       |1000  |5.181953  |\n",
      "|139126 |The Third Lover (1962)                                |(no genres listed)|1000  |5.181099  |\n",
      "|147402 |The King and Queen of Moonlight Bay (2003)            |Children|Drama    |1000  |5.1076407 |\n",
      "|156414 |Life Even Looks Like a Party (2009)                   |Documentary       |1000  |5.094419  |\n",
      "|117352 |A Kind of America 2 (2008)                            |Comedy            |1000  |5.0827765 |\n",
      "|141416 |Muhammad (2015)                                       |Drama             |1000  |5.0816417 |\n",
      "|158832 |The Store (1983)                                      |Documentary       |1000  |5.066148  |\n",
      "|143641 |South (1919)                                          |Documentary       |1000  |5.0534277 |\n",
      "|123567 |IMAX - Roving Mars (2006)                             |Documentary       |1000  |5.039404  |\n",
      "|154290 |100 Million BC (2008)                                 |Sci-Fi            |1000  |5.0389843 |\n",
      "|134789 |If You Were Young: Rage (1970)                        |Drama             |1000  |5.018863  |\n",
      "+-------+------------------------------------------------------+------------------+------+----------+\n",
      "only showing top 25 rows\n",
      "\n",
      "Top 25 commedy with highest rating:\n",
      "+-------+------------------------------------------------+-------------------------------------------+------+----------+\n",
      "|movieId|title                                           |genres                                     |userId|prediction|\n",
      "+-------+------------------------------------------------+-------------------------------------------+------+----------+\n",
      "|151989 |The Thorn (1971)                                |Comedy                                     |1000  |6.5789576 |\n",
      "|107434 |Diplomatic Immunity (2009– )                    |Comedy                                     |1000  |5.872571  |\n",
      "|110108 |Asphalt Playground (La cité rose) (2012)        |Comedy                                     |1000  |5.313552  |\n",
      "|162876 |Big Beat (1993)                                 |Comedy                                     |1000  |5.2903347 |\n",
      "|139074 |The Marriage of Figaro (1975)                   |Comedy                                     |1000  |5.2198753 |\n",
      "|155619 |Neue Vahr Süd (2010)                            |Comedy                                     |1000  |5.2047963 |\n",
      "|117352 |A Kind of America 2 (2008)                      |Comedy                                     |1000  |5.0827765 |\n",
      "|155713 |Boys Will Be Boys (1935)                        |Comedy                                     |1000  |4.965145  |\n",
      "|129905 |The Floating Castle (2012)                      |Comedy|Drama                               |1000  |4.932844  |\n",
      "|148791 |Paris Follies (2014)                            |Comedy                                     |1000  |4.931772  |\n",
      "|131904 |Surf II (1984)                                  |Comedy                                     |1000  |4.904465  |\n",
      "|149446 |Petty Romance (2010)                            |Comedy|Drama                               |1000  |4.8513336 |\n",
      "|158318 |Dave Attell's Insomniac Tour: Uncensored! (2005)|Comedy                                     |1000  |4.8385677 |\n",
      "|163769 |Our Tropical Island (2001)                      |Comedy                                     |1000  |4.8281875 |\n",
      "|99243  |Parasites, Les (1999)                           |Comedy                                     |1000  |4.798627  |\n",
      "|161922 |The Edge of Seventeen (2016)                    |Comedy                                     |1000  |4.7812443 |\n",
      "|136265 |Satyricon (1969)                                |Comedy                                     |1000  |4.752171  |\n",
      "|110293 |Table 7 (2010)                                  |Comedy|Drama                               |1000  |4.750175  |\n",
      "|109571 |Into the Middle of Nowhere (2010)               |Adventure|Children|Comedy|Documentary|Drama|1000  |4.7118907 |\n",
      "|109715 |Inquire Within (2012)                           |Comedy                                     |1000  |4.7118907 |\n",
      "|120313 |Otakus in Love (2004)                           |Comedy|Drama|Romance                       |1000  |4.698091  |\n",
      "|139974 |Cari fottutissimi amici (1994)                  |Comedy                                     |1000  |4.695095  |\n",
      "|138492 |Qualunquemente (2011)                           |Comedy                                     |1000  |4.6827765 |\n",
      "|138620 |Christian Finnegan: The Fun Part (2014)         |Comedy                                     |1000  |4.6435623 |\n",
      "|131644 |The Great American Girl Robbery (1979)          |Comedy|Crime                               |1000  |4.6385264 |\n",
      "+-------+------------------------------------------------+-------------------------------------------+------+----------+\n",
      "only showing top 25 rows\n",
      "\n"
     ]
    }
   ],
   "source": [
    "print \"Top 25 predicted movie with highest rating:\"\n",
    "top25Movies = predictedMovies.orderBy('prediction', ascending = False).show(25, False)\n",
    "\n",
    "print \"Top 25 commedy with highest rating:\"\n",
    "top25Comedy = (predictedMovies.filter(predictedMovies.genres.like(\"%Comedy%\"))\n",
    "                              .orderBy('prediction', ascending = False)\n",
    "                              .show(25, False))"
   ]
  },
  {
   "cell_type": "markdown",
   "metadata": {},
   "source": [
    "#### Our Second Try\n",
    "\n",
    "This time we will filter out movies with less than 50 ratings, and then exclude them in the recommendation pool. We have excluded 27575 moives with less than 50 ratings."
   ]
  },
  {
   "cell_type": "code",
   "execution_count": 16,
   "metadata": {},
   "outputs": [
    {
     "name": "stdout",
     "output_type": "stream",
     "text": [
      "Movies with less than 50 rating count: 27575\n"
     ]
    }
   ],
   "source": [
    "N = 50\n",
    "MovieWithLessThanNRatings = RatingsCountGroupByMovieId.filter('count <' + str(N))\n",
    "print \"Movies with less than %s rating count: %s\" % (N, MovieWithLessThanNRatings.count())\n",
    "\n",
    "movieToBeExcluded = []\n",
    "for movie in MovieWithLessThanNRatings.collect():\n",
    "  movieToBeExcluded.append(movie.movieId)\n",
    "  \n",
    "userUnwatchedListWithAtLeastNRatings = userUnwatchedList.filter(userUnwatchedList.movieId.isin(movieToBeExcluded) == False).cache()"
   ]
  },
  {
   "cell_type": "code",
   "execution_count": 17,
   "metadata": {},
   "outputs": [
    {
     "name": "stdout",
     "output_type": "stream",
     "text": [
      "Final model make prediction in 0.61 seconds\n"
     ]
    }
   ],
   "source": [
    "timeBegin = time()\n",
    "\n",
    "predictedMovies = model.transform(userUnwatchedListWithAtLeastNRatings)\n",
    "predictedMovies = predictedMovies.dropna().cache() # drop all NaN prediction value to ensure not to have NaN RMSE (due to SPARK-14489)\n",
    "\n",
    "timeElapsed = time() - timeBegin\n",
    "print \"Final model make prediction in %s seconds\" % round(timeElapsed, 3)"
   ]
  },
  {
   "cell_type": "markdown",
   "metadata": {},
   "source": [
    "#### Our Second Try Result\n",
    "\n",
    "This time you can see that in our top recommendations list, all those unpopular movies has been excluded. \n",
    "\n",
    "Now, the top recommendation is \"Planet Earth (2006)\", which looks to be a suprisingly good rating moive that worth to be watched! \n",
    "\n",
    "![planet-earth](https://cloud.githubusercontent.com/assets/10897048/26272914/a4750c62-3d56-11e7-9f90-7b4c0882376c.png)\n",
    "\n",
    "We can also list out the top rating based on the moive categories. \n",
    "\n",
    "**Now we have successfully build a practical movide recommendation model!**"
   ]
  },
  {
   "cell_type": "code",
   "execution_count": 18,
   "metadata": {},
   "outputs": [
    {
     "name": "stdout",
     "output_type": "stream",
     "text": [
      "Top 25 predicted movie with highest rating:\n",
      "+-------+----------------------------------------------------------+---------------------------+------+----------+\n",
      "|movieId|title                                                     |genres                     |userId|prediction|\n",
      "+-------+----------------------------------------------------------+---------------------------+------+----------+\n",
      "|159817 |Planet Earth (2006)                                       |Documentary                |1000  |4.3682604 |\n",
      "|142115 |The Blue Planet (2001)                                    |(no genres listed)         |1000  |4.248148  |\n",
      "|858    |Godfather, The (1972)                                     |Crime|Drama                |1000  |4.184489  |\n",
      "|162376 |Stranger Things                                           |Drama                      |1000  |4.180185  |\n",
      "|136445 |George Carlin: Back in Town (1996)                        |Comedy                     |1000  |4.1771317 |\n",
      "|160718 |Piper (2016)                                              |Animation                  |1000  |4.1754093 |\n",
      "|50     |Usual Suspects, The (1995)                                |Crime|Mystery|Thriller     |1000  |4.1577106 |\n",
      "|94466  |Black Mirror (2011)                                       |Drama|Sci-Fi               |1000  |4.1427    |\n",
      "|100044 |Human Planet (2011)                                       |Documentary                |1000  |4.140124  |\n",
      "|77658  |Cosmos (1980)                                             |Documentary                |1000  |4.130395  |\n",
      "|134849 |Duck Amuck (1953)                                         |Animation|Children|Comedy  |1000  |4.1164885 |\n",
      "|100553 |Frozen Planet (2011)                                      |Documentary                |1000  |4.115645  |\n",
      "|1221   |Godfather: Part II, The (1974)                            |Crime|Drama                |1000  |4.111619  |\n",
      "|7502   |Band of Brothers (2001)                                   |Action|Drama|War           |1000  |4.1054187 |\n",
      "|136447 |George Carlin: You Are All Diseased (1999)                |Comedy                     |1000  |4.102854  |\n",
      "|2019   |Seven Samurai (Shichinin no samurai) (1954)               |Action|Adventure|Drama     |1000  |4.1007752 |\n",
      "|904    |Rear Window (1954)                                        |Mystery|Thriller           |1000  |4.095276  |\n",
      "|44555  |Lives of Others, The (Das leben der Anderen) (2006)       |Drama|Romance|Thriller     |1000  |4.094903  |\n",
      "|1203   |12 Angry Men (1957)                                       |Drama                      |1000  |4.0944066 |\n",
      "|108583 |Fawlty Towers (1975-1979)                                 |Comedy                     |1000  |4.0903835 |\n",
      "|1193   |One Flew Over the Cuckoo's Nest (1975)                    |Drama                      |1000  |4.081561  |\n",
      "|101850 |Death on the Staircase (Soupçons) (2004)                  |Crime|Documentary          |1000  |4.0805745 |\n",
      "|107412 |Kidnapping, Caucasian Style (Kavkazskaya plennitsa) (1967)|Comedy|Romance             |1000  |4.0747166 |\n",
      "|912    |Casablanca (1942)                                         |Drama|Romance              |1000  |4.073006  |\n",
      "|5618   |Spirited Away (Sen to Chihiro no kamikakushi) (2001)      |Adventure|Animation|Fantasy|1000  |4.0724697 |\n",
      "+-------+----------------------------------------------------------+---------------------------+------+----------+\n",
      "only showing top 25 rows\n",
      "\n",
      "Took 3.144 seconds\n",
      "Top 25 commedy with highest rating:\n",
      "+-------+---------------------------------------------------------------------------+---------------------------------------+------+----------+\n",
      "|movieId|title                                                                      |genres                                 |userId|prediction|\n",
      "+-------+---------------------------------------------------------------------------+---------------------------------------+------+----------+\n",
      "|136445 |George Carlin: Back in Town (1996)                                         |Comedy                                 |1000  |4.1771317 |\n",
      "|134849 |Duck Amuck (1953)                                                          |Animation|Children|Comedy              |1000  |4.1164885 |\n",
      "|136447 |George Carlin: You Are All Diseased (1999)                                 |Comedy                                 |1000  |4.102854  |\n",
      "|108583 |Fawlty Towers (1975-1979)                                                  |Comedy                                 |1000  |4.0903835 |\n",
      "|107412 |Kidnapping, Caucasian Style (Kavkazskaya plennitsa) (1967)                 |Comedy|Romance                         |1000  |4.0747166 |\n",
      "|27423  |O Auto da Compadecida (Dog's Will, A) (2000)                               |Adventure|Comedy                       |1000  |4.0465994 |\n",
      "|750    |Dr. Strangelove or: How I Learned to Stop Worrying and Love the Bomb (1964)|Comedy|War                             |1000  |4.041888  |\n",
      "|116897 |Wild Tales (2014)                                                          |Comedy|Drama|Thriller                  |1000  |4.0417557 |\n",
      "|130970 |George Carlin: Life Is Worth Losing (2005)                                 |Comedy                                 |1000  |4.0398064 |\n",
      "|296    |Pulp Fiction (1994)                                                        |Comedy|Crime|Drama|Thriller            |1000  |4.0273275 |\n",
      "|1136   |Monty Python and the Holy Grail (1975)                                     |Adventure|Comedy|Fantasy               |1000  |4.0270405 |\n",
      "|4973   |Amelie (Fabuleux destin d'Amélie Poulain, Le) (2001)                       |Comedy|Romance                         |1000  |4.0261617 |\n",
      "|60904  |Heart of a Dog (Sobachye serdtse) (1988)                                   |Comedy|Drama|Sci-Fi                    |1000  |4.0251846 |\n",
      "|1148   |Wallace & Gromit: The Wrong Trousers (1993)                                |Animation|Children|Comedy|Crime        |1000  |4.025024  |\n",
      "|1234   |Sting, The (1973)                                                          |Comedy|Crime                           |1000  |4.0247    |\n",
      "|148881 |World of Tomorrow (2015)                                                   |Animation|Comedy                       |1000  |4.0240536 |\n",
      "|127052 |Operation 'Y' & Other Shurik's Adventures (1965)                           |Comedy|Crime|Romance                   |1000  |4.010968  |\n",
      "|745    |Wallace & Gromit: A Close Shave (1995)                                     |Animation|Children|Comedy              |1000  |4.0001364 |\n",
      "|950    |Thin Man, The (1934)                                                       |Comedy|Crime                           |1000  |3.996851  |\n",
      "|33779  |Eddie Izzard: Dress to Kill (1999)                                         |Comedy                                 |1000  |3.9955738 |\n",
      "|905    |It Happened One Night (1934)                                               |Comedy|Romance                         |1000  |3.9942496 |\n",
      "|1197   |Princess Bride, The (1987)                                                 |Action|Adventure|Comedy|Fantasy|Romance|1000  |3.991812  |\n",
      "|152970 |Hunt for the Wilderpeople (2016)                                           |Adventure|Comedy                       |1000  |3.9883327 |\n",
      "|3429   |Creature Comforts (1989)                                                   |Animation|Comedy                       |1000  |3.9834394 |\n",
      "|898    |Philadelphia Story, The (1940)                                             |Comedy|Drama|Romance                   |1000  |3.977098  |\n",
      "+-------+---------------------------------------------------------------------------+---------------------------------------+------+----------+\n",
      "only showing top 25 rows\n",
      "\n",
      "Took 1.448 seconds\n",
      "Top 25 Science Fiction with highest rating:\n",
      "+-------+--------------------------------------------------------------------+--------------------------------------------------+------+----------+\n",
      "|movieId|title                                                               |genres                                            |userId|prediction|\n",
      "+-------+--------------------------------------------------------------------+--------------------------------------------------+------+----------+\n",
      "|94466  |Black Mirror (2011)                                                 |Drama|Sci-Fi                                      |1000  |4.1427    |\n",
      "|108979 |Cowboy Bebop (1998)                                                 |Action|Adventure|Animation|Crime|Sci-Fi           |1000  |4.0531588 |\n",
      "|60904  |Heart of a Dog (Sobachye serdtse) (1988)                            |Comedy|Drama|Sci-Fi                               |1000  |4.0251846 |\n",
      "|1196   |Star Wars: Episode V - The Empire Strikes Back (1980)               |Action|Adventure|Sci-Fi                           |1000  |4.002866  |\n",
      "|2571   |Matrix, The (1999)                                                  |Action|Sci-Fi|Thriller                            |1000  |4.001184  |\n",
      "|260    |Star Wars: Episode IV - A New Hope (1977)                           |Action|Adventure|Sci-Fi                           |1000  |3.9867938 |\n",
      "|7099   |Nausicaä of the Valley of the Wind (Kaze no tani no Naushika) (1984)|Adventure|Animation|Drama|Fantasy|Sci-Fi          |1000  |3.9752228 |\n",
      "|541    |Blade Runner (1982)                                                 |Action|Sci-Fi|Thriller                            |1000  |3.9750934 |\n",
      "|79132  |Inception (2010)                                                    |Action|Crime|Drama|Mystery|Sci-Fi|Thriller|IMAX   |1000  |3.9675436 |\n",
      "|135456 |Ghost in the Shell: Stand Alone Complex - The Laughing Man (2005)   |Action|Animation|Crime|Sci-Fi                     |1000  |3.9546964 |\n",
      "|136449 |Ghost in the Shell 2.0 (2008)                                       |Action|Animation|Sci-Fi                           |1000  |3.9519982 |\n",
      "|6350   |Laputa: Castle in the Sky (Tenkû no shiro Rapyuta) (1986)           |Action|Adventure|Animation|Children|Fantasy|Sci-Fi|1000  |3.949148  |\n",
      "|42351  |Threads (1984)                                                      |Drama|Sci-Fi|War                                  |1000  |3.9380023 |\n",
      "|48780  |Prestige, The (2006)                                                |Drama|Mystery|Sci-Fi|Thriller                     |1000  |3.921099  |\n",
      "|1214   |Alien (1979)                                                        |Horror|Sci-Fi                                     |1000  |3.9112263 |\n",
      "|1223   |Grand Day Out with Wallace and Gromit, A (1989)                     |Adventure|Animation|Children|Comedy|Sci-Fi        |1000  |3.9108157 |\n",
      "|147384 |Doctor Who: The Runaway Bride (2007)                                |Sci-Fi                                            |1000  |3.906238  |\n",
      "|99764  |It's Such a Beautiful Day (2012)                                    |Animation|Comedy|Drama|Fantasy|Sci-Fi             |1000  |3.9017172 |\n",
      "|68237  |Moon (2009)                                                         |Drama|Mystery|Sci-Fi|Thriller                     |1000  |3.900674  |\n",
      "|36363  |Kin-Dza-Dza! (1986)                                                 |Comedy|Drama|Sci-Fi                               |1000  |3.8966925 |\n",
      "|27611  |Battlestar Galactica (2003)                                         |Drama|Sci-Fi|War                                  |1000  |3.889611  |\n",
      "|40697  |Babylon 5                                                           |Sci-Fi                                            |1000  |3.888779  |\n",
      "|109487 |Interstellar (2014)                                                 |Sci-Fi|IMAX                                       |1000  |3.8803124 |\n",
      "|91233  |Lifted (2006)                                                       |Animation|Comedy|Sci-Fi                           |1000  |3.8736682 |\n",
      "|4454   |More (1998)                                                         |Animation|Drama|Sci-Fi|IMAX                       |1000  |3.873274  |\n",
      "+-------+--------------------------------------------------------------------+--------------------------------------------------+------+----------+\n",
      "only showing top 25 rows\n",
      "\n",
      "Took 1.16 seconds\n",
      "Top 25 Animation with highest rating:\n"
     ]
    },
    {
     "name": "stdout",
     "output_type": "stream",
     "text": [
      "+-------+---------------------------------------------------------------------+--------------------------------------------------+------+----------+\n",
      "|movieId|title                                                                |genres                                            |userId|prediction|\n",
      "+-------+---------------------------------------------------------------------+--------------------------------------------------+------+----------+\n",
      "|160718 |Piper (2016)                                                         |Animation                                         |1000  |4.1754093 |\n",
      "|134849 |Duck Amuck (1953)                                                    |Animation|Children|Comedy                         |1000  |4.1164885 |\n",
      "|5618   |Spirited Away (Sen to Chihiro no kamikakushi) (2001)                 |Adventure|Animation|Fantasy                       |1000  |4.0724697 |\n",
      "|108979 |Cowboy Bebop (1998)                                                  |Action|Adventure|Animation|Crime|Sci-Fi           |1000  |4.0531588 |\n",
      "|5971   |My Neighbor Totoro (Tonari no Totoro) (1988)                         |Animation|Children|Drama|Fantasy                  |1000  |4.032962  |\n",
      "|1148   |Wallace & Gromit: The Wrong Trousers (1993)                          |Animation|Children|Comedy|Crime                   |1000  |4.025024  |\n",
      "|148881 |World of Tomorrow (2015)                                             |Animation|Comedy                                  |1000  |4.0240536 |\n",
      "|162578 |Kubo and the Two Strings (2016)                                      |Adventure|Animation|Children|Fantasy              |1000  |4.0170197 |\n",
      "|745    |Wallace & Gromit: A Close Shave (1995)                               |Animation|Children|Comedy                         |1000  |4.0001364 |\n",
      "|5690   |Grave of the Fireflies (Hotaru no haka) (1988)                       |Animation|Drama|War                               |1000  |3.9950335 |\n",
      "|32657  |Man Who Planted Trees, The (Homme qui plantait des arbres, L') (1987)|Animation|Drama                                   |1000  |3.9944205 |\n",
      "|3000   |Princess Mononoke (Mononoke-hime) (1997)                             |Action|Adventure|Animation|Drama|Fantasy          |1000  |3.9872956 |\n",
      "|3429   |Creature Comforts (1989)                                             |Animation|Comedy                                  |1000  |3.9834394 |\n",
      "|7099   |Nausicaä of the Valley of the Wind (Kaze no tani no Naushika) (1984) |Adventure|Animation|Drama|Fantasy|Sci-Fi          |1000  |3.9752228 |\n",
      "|98491  |Paperman (2012)                                                      |Animation|Comedy|Romance                          |1000  |3.9635987 |\n",
      "|31658  |Howl's Moving Castle (Hauru no ugoku shiro) (2004)                   |Adventure|Animation|Fantasy|Romance               |1000  |3.9625525 |\n",
      "|101962 |Wolf Children (Okami kodomo no ame to yuki) (2012)                   |Animation|Fantasy                                 |1000  |3.9620926 |\n",
      "|135456 |Ghost in the Shell: Stand Alone Complex - The Laughing Man (2005)    |Action|Animation|Crime|Sci-Fi                     |1000  |3.9546964 |\n",
      "|136449 |Ghost in the Shell 2.0 (2008)                                        |Action|Animation|Sci-Fi                           |1000  |3.9519982 |\n",
      "|6350   |Laputa: Castle in the Sky (Tenkû no shiro Rapyuta) (1986)            |Action|Adventure|Animation|Children|Fantasy|Sci-Fi|1000  |3.949148  |\n",
      "|720    |Wallace & Gromit: The Best of Aardman Animation (1996)               |Adventure|Animation|Comedy                        |1000  |3.9409633 |\n",
      "|95311  |Presto (2008)                                                        |Animation|Children|Comedy|Fantasy                 |1000  |3.9322858 |\n",
      "|26903  |Whisper of the Heart (Mimi wo sumaseba) (1995)                       |Animation|Drama|Romance                           |1000  |3.9303195 |\n",
      "|114554 |Tale of Princess Kaguya, The (Kaguyahime no monogatari) (2013)       |Animation|Drama|Fantasy                           |1000  |3.9245875 |\n",
      "|95654  |Geri's Game (1997)                                                   |Animation|Children                                |1000  |3.9234216 |\n",
      "+-------+---------------------------------------------------------------------+--------------------------------------------------+------+----------+\n",
      "only showing top 25 rows\n",
      "\n",
      "Took 1.185 seconds\n"
     ]
    }
   ],
   "source": [
    "print \"Top 25 predicted movie with highest rating:\"\n",
    "timeBegin1 = time()\n",
    "top25Movies = predictedMovies.orderBy('prediction', ascending = False).show(25, False)\n",
    "timeElapsed1 = time() - timeBegin1\n",
    "print \"Took %s seconds\" % round(timeElapsed1, 3)\n",
    "\n",
    "print \"Top 25 commedy with highest rating:\"\n",
    "timeBegin2 = time()\n",
    "top25Comedy = (predictedMovies.filter(predictedMovies.genres.like(\"%Comedy%\"))\n",
    "                              .orderBy('prediction', ascending = False)\n",
    "                              .show(25, False))\n",
    "timeElapsed2 = time() - timeBegin2\n",
    "print \"Took %s seconds\" % round(timeElapsed2, 3)\n",
    "\n",
    "print \"Top 25 Science Fiction with highest rating:\"\n",
    "timeBegin3 = time()\n",
    "top25SciFi = (predictedMovies.filter(predictedMovies.genres.like(\"%Sci-Fi%\"))\n",
    "                             .orderBy('prediction', ascending = False)\n",
    "                             .show(25, False))\n",
    "timeElapsed3 = time() - timeBegin3\n",
    "print \"Took %s seconds\" % round(timeElapsed3, 3)\n",
    "\n",
    "print \"Top 25 Animation with highest rating:\"\n",
    "timeBegin4 = time()\n",
    "top25Anim = (predictedMovies.filter(predictedMovies.genres.like(\"%Animation%\"))\n",
    "                             .orderBy('prediction', ascending = False)\n",
    "                             .show(25, False))\n",
    "timeElapsed4 = time() - timeBegin4\n",
    "print \"Took %s seconds\" % round(timeElapsed4, 3)"
   ]
  },
  {
   "cell_type": "markdown",
   "metadata": {},
   "source": [
    "### Persisting the model\n",
    "\n",
    "After we have trained the model, we may want to store it somewhere for later use, such as saving time when starting up the server. We can save it easily to AWS S3 by specifying the bucket name, access key, secrete key and the file path. \n",
    "\n",
    "The following are examples for saving and loading the trained ALS model:"
   ]
  },
  {
   "cell_type": "code",
   "execution_count": 19,
   "metadata": {},
   "outputs": [
    {
     "name": "stdout",
     "output_type": "stream",
     "text": [
      "Save model took 7.866 seconds\n"
     ]
    }
   ],
   "source": [
    "timeBegin = time()\n",
    "\n",
    "# Save the trained model to S3\n",
    "model.write().overwrite().save(\"s3://%s/%s\" % (AWS_BUCKET_NAME, \"model3\"))\n",
    "\n",
    "timeElapsed = time() - timeBegin\n",
    "print \"Save model took %s seconds\" % round(timeElapsed, 3)"
   ]
  },
  {
   "cell_type": "code",
   "execution_count": 20,
   "metadata": {},
   "outputs": [
    {
     "name": "stdout",
     "output_type": "stream",
     "text": [
      "Load model took 1.342 seconds\n"
     ]
    }
   ],
   "source": [
    "from pyspark.ml.recommendation import ALSModel\n",
    "\n",
    "timeBegin = time()\n",
    "\n",
    "# Load model previous saved model\n",
    "model = ALSModel.load(\"s3://%s/%s\" % (AWS_BUCKET_NAME, \"model3\"))\n",
    "\n",
    "timeElapsed = time() - timeBegin\n",
    "print \"Load model took %s seconds\" % round(timeElapsed, 3)"
   ]
  },
  {
   "cell_type": "code",
   "execution_count": null,
   "metadata": {
    "collapsed": true
   },
   "outputs": [],
   "source": []
  }
 ],
 "metadata": {
  "kernelspec": {
   "display_name": "Python 2",
   "language": "python",
   "name": "python2"
  },
  "language_info": {
   "codemirror_mode": {
    "name": "ipython",
    "version": 2
   },
   "file_extension": ".py",
   "mimetype": "text/x-python",
   "name": "python",
   "nbconvert_exporter": "python",
   "pygments_lexer": "ipython2",
   "version": "2.7.12"
  },
  "name": "movie-test",
  "notebookId": 3619855571353653
 },
 "nbformat": 4,
 "nbformat_minor": 1
}
