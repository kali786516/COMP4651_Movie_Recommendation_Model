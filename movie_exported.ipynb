{
 "cells": [
  {
   "cell_type": "code",
   "execution_count": 23,
   "metadata": {
    "collapsed": true
   },
   "outputs": [],
   "source": [
    "# Set up AWS S3 access credentials\n",
    "AWS_BUCKET_NAME = \"sam4651-movie-data\""
   ]
  },
  {
   "cell_type": "code",
   "execution_count": 2,
   "metadata": {
    "collapsed": true
   },
   "outputs": [],
   "source": [
    "# Convert csv file to Spark DataFrame\n",
    "def loadDataFrame(fileName, fileSchema):\n",
    "  return (spark.read.format(\"csv\")\n",
    "                    .schema(fileSchema)\n",
    "                    .option(\"header\", \"true\")\n",
    "                    .option(\"mode\", \"DROPMALFORMED\")\n",
    "                    .csv(\"s3a://%s:%s@%s/%s\" % (ACCESS_KEY, ENCODED_SECRET_KEY, AWS_BUCKET_NAME, fileName)))"
   ]
  },
  {
   "cell_type": "code",
   "execution_count": 24,
   "metadata": {
    "collapsed": true
   },
   "outputs": [],
   "source": [
    "# For AWS EMR\n",
    "# Convert csv file to spark data frame\n",
    "# INPUT: \n",
    "# fileName: the full file name(e.g. \"file.csv\"), \n",
    "# fileSchema: the schema (StructType Array with StructField)\n",
    "# OUTPUT:\n",
    "# Spark DataFrame\n",
    "def loadDataFrame(fileName, fileSchema):\n",
    "    return (spark.read.format(\"org.apache.spark.sql.execution.datasources.csv.CSVFileFormat\")\n",
    "                    .option(\"header\", \"true\")\n",
    "                    .option(\"mode\", \"DROPMALFORMED\")\n",
    "                    .schema(fileSchema)\n",
    "                    .load(\"s3://%s/%s\" % (AWS_BUCKET_NAME, fileName)))"
   ]
  },
  {
   "cell_type": "code",
   "execution_count": 25,
   "metadata": {
    "collapsed": true
   },
   "outputs": [],
   "source": [
    "from pyspark.sql.types import *\n",
    "\n",
    "movieRatingSchema = StructType([\n",
    "    StructField(\"userId\", IntegerType(), True),\n",
    "    StructField(\"movieId\", IntegerType(), True),\n",
    "    StructField(\"rating\", FloatType(), True),\n",
    "    StructField(\"timestamp\", StringType(), True)])\n",
    "\n",
    "movieSchema = StructType([\n",
    "    StructField(\"movieId\", IntegerType(), True),\n",
    "    StructField(\"title\", StringType(), True),\n",
    "    StructField(\"genres\", StringType(), True)])\n",
    "\n",
    "smallMovieRatingsDF = loadDataFrame(\"ratings-small.csv\", movieRatingSchema).cache()\n",
    "smallMoviesDF = loadDataFrame(\"movies-small.csv\", movieSchema).cache()"
   ]
  },
  {
   "cell_type": "code",
   "execution_count": 26,
   "metadata": {},
   "outputs": [
    {
     "name": "stdout",
     "output_type": "stream",
     "text": [
      "root\n",
      " |-- userId: integer (nullable = true)\n",
      " |-- movieId: integer (nullable = true)\n",
      " |-- rating: float (nullable = true)\n",
      " |-- timestamp: string (nullable = true)\n",
      "\n",
      "+------+-------+------+----------+\n",
      "|userId|movieId|rating| timestamp|\n",
      "+------+-------+------+----------+\n",
      "|     1|     31|   2.5|1260759144|\n",
      "|     1|   1029|   3.0|1260759179|\n",
      "|     1|   1061|   3.0|1260759182|\n",
      "|     1|   1129|   2.0|1260759185|\n",
      "|     1|   1172|   4.0|1260759205|\n",
      "+------+-------+------+----------+\n",
      "only showing top 5 rows\n",
      "\n",
      "root\n",
      " |-- movieId: integer (nullable = true)\n",
      " |-- title: string (nullable = true)\n",
      " |-- genres: string (nullable = true)\n",
      "\n",
      "+-------+--------------------+--------------------+\n",
      "|movieId|               title|              genres|\n",
      "+-------+--------------------+--------------------+\n",
      "|      1|    Toy Story (1995)|Adventure|Animati...|\n",
      "|      2|      Jumanji (1995)|Adventure|Childre...|\n",
      "|      3|Grumpier Old Men ...|      Comedy|Romance|\n",
      "|      4|Waiting to Exhale...|Comedy|Drama|Romance|\n",
      "|      5|Father of the Bri...|              Comedy|\n",
      "+-------+--------------------+--------------------+\n",
      "only showing top 5 rows\n",
      "\n"
     ]
    }
   ],
   "source": [
    "# Print out the DataFrame shcema, and a few lines as example\n",
    "smallMovieRatingsDF.printSchema()\n",
    "smallMovieRatingsDF.show(5)\n",
    "\n",
    "smallMoviesDF.printSchema()\n",
    "smallMoviesDF.show(5)"
   ]
  },
  {
   "cell_type": "code",
   "execution_count": 27,
   "metadata": {},
   "outputs": [
    {
     "name": "stdout",
     "output_type": "stream",
     "text": [
      "Number of ratings: 100004\n",
      "Number of distinct users: 671\n",
      "Number of distinct movies: 9066\n",
      "+-----------------+-----------+-----------+-------------------+\n",
      "|      avg(rating)|min(rating)|max(rating)|stddev_samp(rating)|\n",
      "+-----------------+-----------+-----------+-------------------+\n",
      "|3.543608255669773|        0.5|        5.0| 1.0580641091070326|\n",
      "+-----------------+-----------+-----------+-------------------+\n",
      "\n",
      "+------+-----+\n",
      "|rating|count|\n",
      "+------+-----+\n",
      "|   0.5| 1101|\n",
      "|   1.0| 3326|\n",
      "|   1.5| 1687|\n",
      "|   2.0| 7271|\n",
      "|   2.5| 4449|\n",
      "|   3.0|20064|\n",
      "|   3.5|10538|\n",
      "|   4.0|28750|\n",
      "|   4.5| 7723|\n",
      "|   5.0|15095|\n",
      "+------+-----+\n",
      "\n"
     ]
    }
   ],
   "source": [
    "from pyspark.sql.functions import mean, min, max, stddev\n",
    "\n",
    "# Data summary of the dataset\n",
    "print \"Number of ratings: %s\" % (smallMovieRatingsDF.count())\n",
    "print \"Number of distinct users: %s\" % (smallMovieRatingsDF.select('userId').distinct().count())\n",
    "print \"Number of distinct movies: %s\" % (smallMovieRatingsDF.select('movieId').distinct().count())\n",
    "smallMovieRatingsDF.select([mean('rating'), min('rating'), max('rating'), stddev('rating')]).show()\n",
    "smallMovieRatingsDF.groupBy('rating').count().orderBy('rating').show()"
   ]
  },
  {
   "cell_type": "code",
   "execution_count": 28,
   "metadata": {
    "collapsed": true
   },
   "outputs": [],
   "source": [
    "# Partition the dataset into traning, validation and testing for cross-validation\n",
    "(trainingSet, validationSet, testingSet) = smallMovieRatingsDF.randomSplit([0.6, 0.2, 0.2], seed=12345)\n",
    "training = trainingSet.cache()\n",
    "validation = validationSet.cache()\n",
    "testing = testingSet.cache()"
   ]
  },
  {
   "cell_type": "code",
   "execution_count": 29,
   "metadata": {},
   "outputs": [
    {
     "name": "stdout",
     "output_type": "stream",
     "text": [
      "For rank 2, regParams 0.01, the RMSE is 1.03153158849\n",
      "For rank 4, regParams 0.01, the RMSE is 1.1106769261\n",
      "For rank 8, regParams 0.01, the RMSE is 1.22156636168\n",
      "For rank 12, regParams 0.01, the RMSE is 1.30301752091\n",
      "For rank 16, regParams 0.01, the RMSE is 1.34038879145\n",
      "For rank 20, regParams 0.01, the RMSE is 1.36867623935\n",
      "For rank 24, regParams 0.01, the RMSE is 1.3964271066\n",
      "For rank 2, regParams 0.05, the RMSE is 0.969612344535\n",
      "For rank 4, regParams 0.05, the RMSE is 0.994690520889\n",
      "For rank 8, regParams 0.05, the RMSE is 1.03391732058\n",
      "For rank 12, regParams 0.05, the RMSE is 1.05468292515\n",
      "For rank 16, regParams 0.05, the RMSE is 1.04826527298\n",
      "For rank 20, regParams 0.05, the RMSE is 1.04998009767\n",
      "For rank 24, regParams 0.05, the RMSE is 1.05601495976\n",
      "For rank 2, regParams 0.1, the RMSE is 0.945134847557\n",
      "For rank 4, regParams 0.1, the RMSE is 0.945914517266\n",
      "For rank 8, regParams 0.1, the RMSE is 0.953375330173\n",
      "For rank 12, regParams 0.1, the RMSE is 0.955152351799\n",
      "For rank 16, regParams 0.1, the RMSE is 0.951090589778\n",
      "For rank 20, regParams 0.1, the RMSE is 0.950391516938\n",
      "For rank 24, regParams 0.1, the RMSE is 0.949310878227\n",
      "For rank 2, regParams 0.15, the RMSE is 0.936034703366\n",
      "For rank 4, regParams 0.15, the RMSE is 0.928137351826\n",
      "For rank 8, regParams 0.15, the RMSE is 0.929514450514\n",
      "For rank 12, regParams 0.15, the RMSE is 0.929104250755\n",
      "For rank 16, regParams 0.15, the RMSE is 0.928793535233\n",
      "For rank 20, regParams 0.15, the RMSE is 0.928124948787\n",
      "For rank 24, regParams 0.15, the RMSE is 0.927387237162\n",
      "For rank 2, regParams 0.2, the RMSE is 0.937451183333\n",
      "For rank 4, regParams 0.2, the RMSE is 0.926574179644\n",
      "For rank 8, regParams 0.2, the RMSE is 0.926843942719\n",
      "For rank 12, regParams 0.2, the RMSE is 0.927206927987\n",
      "For rank 16, regParams 0.2, the RMSE is 0.927706334629\n",
      "For rank 20, regParams 0.2, the RMSE is 0.927084393644\n",
      "For rank 24, regParams 0.2, the RMSE is 0.927102385089\n",
      "For rank 2, regParams 0.3, the RMSE is 0.956934314477\n",
      "For rank 4, regParams 0.3, the RMSE is 0.949138340378\n",
      "For rank 8, regParams 0.3, the RMSE is 0.949343652528\n",
      "For rank 12, regParams 0.3, the RMSE is 0.950469386335\n",
      "For rank 16, regParams 0.3, the RMSE is 0.950623155004\n",
      "For rank 20, regParams 0.3, the RMSE is 0.950144581068\n",
      "For rank 24, regParams 0.3, the RMSE is 0.950789999948\n",
      "Best Rank = 4, Best regParam = 0.2, with RMSE = 0.926574179644\n"
     ]
    }
   ],
   "source": [
    "# Use ml instead of mlib for Dataframes\n",
    "# http://spark.apache.org/docs/latest/api/python/pyspark.ml.html#pyspark.ml.recommendation.ALS\n",
    "from pyspark.ml.recommendation import ALS\n",
    "from pyspark.ml.evaluation import RegressionEvaluator\n",
    "from pyspark.sql import Row\n",
    "\n",
    "ranks = [2, 4, 8, 12, 16, 20, 24]\n",
    "regParams = [0.01, 0.05, 0.1, 0.15, 0.2, 0.3]\n",
    "minError = float('inf')\n",
    "bestRank = -1\n",
    "bestRegParam = -1\n",
    "bestModel = None\n",
    "\n",
    "# An RMSE evaluator using the rating and predicted rating columns\n",
    "evaluator = RegressionEvaluator(metricName=\"rmse\", labelCol=\"rating\", predictionCol=\"prediction\")\n",
    "# Initialize the ASL(Alternating Least Squares)\n",
    "als = ALS(userCol = \"userId\", itemCol = \"movieId\", ratingCol = \"rating\", seed = 123)\n",
    "\n",
    "for regParam in regParams:\n",
    "  for rank in ranks:\n",
    "    # Build the recommendation model using ALS on the training data\n",
    "    als.setParams(rank = rank, regParam = regParam)\n",
    "    model = als.fit(training)\n",
    "\n",
    "    # Evaluate the model by computing the RMSE on the validation data\n",
    "    predictions = model.transform(validation)\n",
    "    predictions = predictions.dropna() # drop all NaN prediction value to ensure not to have NaN RMSE (due to SPARK-14489)\n",
    "    error = evaluator.evaluate(predictions)\n",
    "    \n",
    "    if error < minError:\n",
    "      bestRank = rank\n",
    "      bestRegParam = regParam\n",
    "      minError = error\n",
    "      bestModel = model\n",
    "    print 'For rank %s, regParams %s, the RMSE is %s' % (rank, regParam, error)\n",
    "\n",
    "print(\"Best Rank = %s, Best regParam = %s, with RMSE = %s\"  % (bestRank, bestRegParam, minError))"
   ]
  },
  {
   "cell_type": "code",
   "execution_count": 34,
   "metadata": {},
   "outputs": [
    {
     "name": "stdout",
     "output_type": "stream",
     "text": [
      "The model had a RMSE of 0.92277622142 on test dataset\n"
     ]
    }
   ],
   "source": [
    "# After getting the best rank and RegParam, test the model on test dataset\n",
    "predictions = bestModel.transform(testing)\n",
    "predictions = predictions.dropna() # drop all NaN prediction value to ensure not to have NaN RMSE (due to SPARK-14489)\n",
    "rmse = evaluator.evaluate(predictions)\n",
    "print(\"The model had a RMSE of %s on test dataset\"  % (rmse))"
   ]
  },
  {
   "cell_type": "code",
   "execution_count": 35,
   "metadata": {
    "collapsed": true
   },
   "outputs": [],
   "source": [
    "# Train the full data set and calculate the time elapsed\n",
    "MovieRatingsDF = loadDataFrame(\"ratings.csv\", movieRatingSchema).cache()\n",
    "MoviesDF = loadDataFrame(\"movies.csv\", movieSchema).cache()"
   ]
  },
  {
   "cell_type": "code",
   "execution_count": 36,
   "metadata": {},
   "outputs": [
    {
     "name": "stdout",
     "output_type": "stream",
     "text": [
      "Number of ratings: 24404096\n",
      "Number of distinct users: 259137\n",
      "Number of rated distinct movies: 39443\n",
      "Total number of movies: 40110\n",
      "+------------------+-----------+-----------+-------------------+\n",
      "|       avg(rating)|min(rating)|max(rating)|stddev_samp(rating)|\n",
      "+------------------+-----------+-----------+-------------------+\n",
      "|3.5265681220070597|        0.5|        5.0| 1.0642182955183275|\n",
      "+------------------+-----------+-----------+-------------------+\n",
      "\n",
      "Distribution of ratings:\n",
      "+------+-------+\n",
      "|rating|  count|\n",
      "+------+-------+\n",
      "|   0.5| 361006|\n",
      "|   1.0| 807991|\n",
      "|   1.5| 369879|\n",
      "|   2.0|1681993|\n",
      "|   2.5|1145168|\n",
      "|   3.0|5011914|\n",
      "|   3.5|2840765|\n",
      "|   4.0|6620340|\n",
      "|   4.5|1984982|\n",
      "|   5.0|3580058|\n",
      "+------+-------+\n",
      "\n",
      "Average number of ratings per movie: 618.71804883\n"
     ]
    }
   ],
   "source": [
    "# Data summary of the full dataset on movie rating\n",
    "print \"Number of ratings: %s\" % (MovieRatingsDF.count())\n",
    "print \"Number of distinct users: %s\" % (MovieRatingsDF.select('userId').distinct().count())\n",
    "print \"Number of rated distinct movies: %s\" % (MovieRatingsDF.select('movieId').distinct().count())\n",
    "print \"Total number of movies: %s\" % (MoviesDF.select('movieId').count())\n",
    "\n",
    "MovieRatingsDF.select([mean('rating'), min('rating'), max('rating'), stddev('rating')]).show()\n",
    "\n",
    "print \"Distribution of ratings:\"\n",
    "MovieRatingsDF.groupBy('rating').count().orderBy('rating').show()\n",
    "RatingsCountGroupByMovieId = MovieRatingsDF.groupBy('movieId').count()\n",
    "print \"Average number of ratings per movie: %s\" % (RatingsCountGroupByMovieId.select(mean('count')).first())"
   ]
  },
  {
   "cell_type": "code",
   "execution_count": 37,
   "metadata": {},
   "outputs": [
    {
     "name": "stdout",
     "output_type": "stream",
     "text": [
      "Training full data set with Rank = 4, regParam = 0.2 ...\n",
      "Final model trained in 56.15 seconds\n"
     ]
    }
   ],
   "source": [
    "from time import time\n",
    "\n",
    "als.setParams(rank = bestRank, regParam = bestRegParam)\n",
    "print \"Training full data set with Rank = %s, regParam = %s ...\" % (bestRank, bestRegParam)\n",
    "\n",
    "timeBegin = time()\n",
    "\n",
    "model = als.fit(MovieRatingsDF) # use the full dataset for training\n",
    "\n",
    "timeElapsed = time() - timeBegin\n",
    "\n",
    "print \"Final model trained in %s seconds\" % round(timeElapsed, 2)"
   ]
  },
  {
   "cell_type": "code",
   "execution_count": 38,
   "metadata": {},
   "outputs": [
    {
     "name": "stdout",
     "output_type": "stream",
     "text": [
      "The final model had a RMSE of 1.0618307465\n"
     ]
    }
   ],
   "source": [
    "# Evaluate the performance of the final model with the testing data\n",
    "predictions = model.transform(testing)\n",
    "predictions = predictions.dropna() # drop all NaN prediction value to ensure not to have NaN RMSE (due to SPARK-14489)\n",
    "rmse = evaluator.evaluate(predictions)\n",
    "print(\"The final model had a RMSE of %s\"  % (rmse))"
   ]
  },
  {
   "cell_type": "code",
   "execution_count": 39,
   "metadata": {},
   "outputs": [
    {
     "name": "stdout",
     "output_type": "stream",
     "text": [
      "User 1000 has watched and rated 49 moive (sorted by rating):\n",
      "+-------+------+--------------------------------------------+------+\n",
      "|movieId|userId|title                                       |rating|\n",
      "+-------+------+--------------------------------------------+------+\n",
      "|7361   |1000  |Eternal Sunshine of the Spotless Mind (2004)|5.0   |\n",
      "|8784   |1000  |Garden State (2004)                         |5.0   |\n",
      "|2762   |1000  |Sixth Sense, The (1999)                     |5.0   |\n",
      "|46578  |1000  |Little Miss Sunshine (2006)                 |5.0   |\n",
      "|111362 |1000  |X-Men: Days of Future Past (2014)           |5.0   |\n",
      "|1265   |1000  |Groundhog Day (1993)                        |5.0   |\n",
      "|4878   |1000  |Donnie Darko (2001)                         |5.0   |\n",
      "|92259  |1000  |Intouchables (2011)                         |5.0   |\n",
      "|527    |1000  |Schindler's List (1993)                     |4.5   |\n",
      "|60069  |1000  |WALL·E (2008)                               |4.5   |\n",
      "|8972   |1000  |National Treasure (2004)                    |4.0   |\n",
      "|2959   |1000  |Fight Club (1999)                           |4.0   |\n",
      "|33794  |1000  |Batman Begins (2005)                        |4.0   |\n",
      "|106920 |1000  |Her (2013)                                  |4.0   |\n",
      "|3147   |1000  |Green Mile, The (1999)                      |4.0   |\n",
      "|356    |1000  |Forrest Gump (1994)                         |4.0   |\n",
      "|45499  |1000  |X-Men: The Last Stand (2006)                |4.0   |\n",
      "|58559  |1000  |Dark Knight, The (2008)                     |4.0   |\n",
      "|8961   |1000  |Incredibles, The (2004)                     |4.0   |\n",
      "|6333   |1000  |X2: X-Men United (2003)                     |4.0   |\n",
      "+-------+------+--------------------------------------------+------+\n",
      "only showing top 20 rows\n",
      "\n",
      "40061 unwatched movie:\n",
      "+-------+-------------------------------------+-------------------------------------------+------+\n",
      "|movieId|title                                |genres                                     |userId|\n",
      "+-------+-------------------------------------+-------------------------------------------+------+\n",
      "|1      |Toy Story (1995)                     |Adventure|Animation|Children|Comedy|Fantasy|1000  |\n",
      "|2      |Jumanji (1995)                       |Adventure|Children|Fantasy                 |1000  |\n",
      "|3      |Grumpier Old Men (1995)              |Comedy|Romance                             |1000  |\n",
      "|4      |Waiting to Exhale (1995)             |Comedy|Drama|Romance                       |1000  |\n",
      "|5      |Father of the Bride Part II (1995)   |Comedy                                     |1000  |\n",
      "|6      |Heat (1995)                          |Action|Crime|Thriller                      |1000  |\n",
      "|7      |Sabrina (1995)                       |Comedy|Romance                             |1000  |\n",
      "|8      |Tom and Huck (1995)                  |Adventure|Children                         |1000  |\n",
      "|9      |Sudden Death (1995)                  |Action                                     |1000  |\n",
      "|10     |GoldenEye (1995)                     |Action|Adventure|Thriller                  |1000  |\n",
      "|11     |American President, The (1995)       |Comedy|Drama|Romance                       |1000  |\n",
      "|12     |Dracula: Dead and Loving It (1995)   |Comedy|Horror                              |1000  |\n",
      "|13     |Balto (1995)                         |Adventure|Animation|Children               |1000  |\n",
      "|14     |Nixon (1995)                         |Drama                                      |1000  |\n",
      "|15     |Cutthroat Island (1995)              |Action|Adventure|Romance                   |1000  |\n",
      "|16     |Casino (1995)                        |Crime|Drama                                |1000  |\n",
      "|17     |Sense and Sensibility (1995)         |Drama|Romance                              |1000  |\n",
      "|18     |Four Rooms (1995)                    |Comedy                                     |1000  |\n",
      "|19     |Ace Ventura: When Nature Calls (1995)|Comedy                                     |1000  |\n",
      "|20     |Money Train (1995)                   |Action|Comedy|Crime|Drama|Thriller         |1000  |\n",
      "+-------+-------------------------------------+-------------------------------------------+------+\n",
      "only showing top 20 rows\n",
      "\n"
     ]
    }
   ],
   "source": [
    "from pyspark.sql.functions import lit\n",
    "UserId = 1000\n",
    "userWatchedList = MovieRatingsDF.filter(MovieRatingsDF.userId == UserId).join(MoviesDF, 'movieId').select(['movieId', 'userId', 'title', 'rating'])\n",
    "watchedMovieList = []\n",
    "for movie in userWatchedList.collect():\n",
    "  watchedMovieList.append(movie.movieId)\n",
    "print \"User %s has watched and rated %s moive (sorted by rating):\" % (UserId, len(watchedMovieList)) \n",
    "userWatchedList.orderBy('rating', ascending = False).show(20, False)\n",
    "\n",
    "# find out the unwatched list and append with the userid\n",
    "userUnwatchedList = MoviesDF.filter(MoviesDF.movieId.isin(watchedMovieList) == False).withColumn('userId', lit(UserId)).cache()\n",
    "print \"%s unwatched movie:\" % (userUnwatchedList.count())\n",
    "userUnwatchedList.show(20, False)\n",
    "\n",
    "predictedMovies = model.transform(userUnwatchedList)\n",
    "predictedMovies = predictedMovies.dropna().cache() # drop all NaN prediction value to ensure not to have NaN RMSE (due to SPARK-14489)\n"
   ]
  },
  {
   "cell_type": "code",
   "execution_count": 40,
   "metadata": {},
   "outputs": [
    {
     "name": "stdout",
     "output_type": "stream",
     "text": [
      "Top 25 predicted movie with highest rating:\n",
      "+-------+------------------------------------------------------+------------------+------+----------+\n",
      "|movieId|title                                                 |genres            |userId|prediction|\n",
      "+-------+------------------------------------------------------+------------------+------+----------+\n",
      "|151989 |The Thorn (1971)                                      |Comedy            |1000  |6.502588  |\n",
      "|105144 |Bare Knuckles (2010)                                  |Action|Drama      |1000  |6.0512533 |\n",
      "|107252 |Island at War (2004)                                  |Drama|War         |1000  |5.862084  |\n",
      "|107434 |Diplomatic Immunity (2009– )                          |Comedy            |1000  |5.862084  |\n",
      "|162368 |The Russian Woodpecker (2015)                         |Documentary       |1000  |5.7818584 |\n",
      "|156801 |The Magician (1898)                                   |Drama|Fantasy     |1000  |5.731187  |\n",
      "|164937 |Love Is Blind (2013)                                  |Drama|Romance     |1000  |5.4724817 |\n",
      "|144202 |Catch That Girl (2002)                                |Action|Children   |1000  |5.4271955 |\n",
      "|151615 |Hello Stranger (2010)                                 |Drama             |1000  |5.408147  |\n",
      "|110108 |Asphalt Playground (La cité rose) (2012)              |Comedy            |1000  |5.319137  |\n",
      "|162876 |Big Beat (1993)                                       |Comedy            |1000  |5.295619  |\n",
      "|139074 |The Marriage of Figaro (1975)                         |Comedy            |1000  |5.237251  |\n",
      "|132912 |Emmanuelle 5 (1987)                                   |(no genres listed)|1000  |5.1948905 |\n",
      "|155619 |Neue Vahr Süd (2010)                                  |Comedy            |1000  |5.1927357 |\n",
      "|143571 |Private Practices: The Story of a Sex Surrogate (1986)|Documentary       |1000  |5.1870065 |\n",
      "|139126 |The Third Lover (1962)                                |(no genres listed)|1000  |5.172937  |\n",
      "|156414 |Life Even Looks Like a Party (2009)                   |Documentary       |1000  |5.090347  |\n",
      "|141416 |Muhammad (2015)                                       |Drama             |1000  |5.08864   |\n",
      "|117352 |A Kind of America 2 (2008)                            |Comedy            |1000  |5.083383  |\n",
      "|158832 |The Store (1983)                                      |Documentary       |1000  |5.08009   |\n",
      "|123567 |IMAX - Roving Mars (2006)                             |Documentary       |1000  |5.0379868 |\n",
      "|154290 |100 Million BC (2008)                                 |Sci-Fi            |1000  |5.0357466 |\n",
      "|143641 |South (1919)                                          |Documentary       |1000  |5.0310955 |\n",
      "|136872 |Zapatlela (1993)                                      |(no genres listed)|1000  |5.028083  |\n",
      "|136876 |The Village Had No Walls (1995)                       |(no genres listed)|1000  |5.028083  |\n",
      "+-------+------------------------------------------------------+------------------+------+----------+\n",
      "only showing top 25 rows\n",
      "\n",
      "Top 25 commedy with highest rating:\n",
      "+-------+------------------------------------------------+-------------------------------------------+------+----------+\n",
      "|movieId|title                                           |genres                                     |userId|prediction|\n",
      "+-------+------------------------------------------------+-------------------------------------------+------+----------+\n",
      "|151989 |The Thorn (1971)                                |Comedy                                     |1000  |6.502588  |\n",
      "|107434 |Diplomatic Immunity (2009– )                    |Comedy                                     |1000  |5.862084  |\n",
      "|110108 |Asphalt Playground (La cité rose) (2012)        |Comedy                                     |1000  |5.319137  |\n",
      "|162876 |Big Beat (1993)                                 |Comedy                                     |1000  |5.295619  |\n",
      "|139074 |The Marriage of Figaro (1975)                   |Comedy                                     |1000  |5.237251  |\n",
      "|155619 |Neue Vahr Süd (2010)                            |Comedy                                     |1000  |5.1927357 |\n",
      "|117352 |A Kind of America 2 (2008)                      |Comedy                                     |1000  |5.083383  |\n",
      "|155713 |Boys Will Be Boys (1935)                        |Comedy                                     |1000  |4.996125  |\n",
      "|129905 |The Floating Castle (2012)                      |Comedy|Drama                               |1000  |4.942331  |\n",
      "|158318 |Dave Attell's Insomniac Tour: Uncensored! (2005)|Comedy                                     |1000  |4.91006   |\n",
      "|148791 |Paris Follies (2014)                            |Comedy                                     |1000  |4.909864  |\n",
      "|131904 |Surf II (1984)                                  |Comedy                                     |1000  |4.8635616 |\n",
      "|149446 |Petty Romance (2010)                            |Comedy|Drama                               |1000  |4.8501945 |\n",
      "|163769 |Our Tropical Island (2001)                      |Comedy                                     |1000  |4.8285847 |\n",
      "|99243  |Parasites, Les (1999)                           |Comedy                                     |1000  |4.788574  |\n",
      "|161922 |The Edge of Seventeen (2016)                    |Comedy                                     |1000  |4.7762847 |\n",
      "|136265 |Satyricon (1969)                                |Comedy                                     |1000  |4.750704  |\n",
      "|110293 |Table 7 (2010)                                  |Comedy|Drama                               |1000  |4.742889  |\n",
      "|120313 |Otakus in Love (2004)                           |Comedy|Drama|Romance                       |1000  |4.7185683 |\n",
      "|109571 |Into the Middle of Nowhere (2010)               |Adventure|Children|Comedy|Documentary|Drama|1000  |4.686706  |\n",
      "|109715 |Inquire Within (2012)                           |Comedy                                     |1000  |4.686706  |\n",
      "|138492 |Qualunquemente (2011)                           |Comedy                                     |1000  |4.6760583 |\n",
      "|139974 |Cari fottutissimi amici (1994)                  |Comedy                                     |1000  |4.6344376 |\n",
      "|131644 |The Great American Girl Robbery (1979)          |Comedy|Crime                               |1000  |4.6322627 |\n",
      "|151519 |Fluke (2008)                                    |Comedy                                     |1000  |4.6284037 |\n",
      "+-------+------------------------------------------------+-------------------------------------------+------+----------+\n",
      "only showing top 25 rows\n",
      "\n"
     ]
    }
   ],
   "source": [
    "print \"Top 25 predicted movie with highest rating:\"\n",
    "top25Movies = predictedMovies.orderBy('prediction', ascending = False).show(25, False)\n",
    "\n",
    "print \"Top 25 commedy with highest rating:\"\n",
    "top25Comedy = predictedMovies.filter(predictedMovies.genres.like(\"%Comedy%\")).orderBy('prediction', ascending = False).show(25, False)"
   ]
  },
  {
   "cell_type": "code",
   "execution_count": 41,
   "metadata": {},
   "outputs": [
    {
     "name": "stdout",
     "output_type": "stream",
     "text": [
      "Movies with less than 20 rating count: 23941\n"
     ]
    }
   ],
   "source": [
    "N = 20\n",
    "MovieWithLessThanNRatings = RatingsCountGroupByMovieId.filter('count <' + str(N))\n",
    "print \"Movies with less than %s rating count: %s\" % (N, MovieWithLessThanNRatings.count())\n",
    "\n",
    "movieToBeExcluded = []\n",
    "for movie in MovieWithLessThanNRatings.collect():\n",
    "  movieToBeExcluded.append(movie.movieId)\n",
    "  \n",
    "userUnwatchedListWithAtLeastNRatings = userUnwatchedList.filter(userUnwatchedList.movieId.isin(movieToBeExcluded) == False).cache()"
   ]
  },
  {
   "cell_type": "code",
   "execution_count": 42,
   "metadata": {
    "collapsed": true
   },
   "outputs": [],
   "source": [
    "predictedMovies = model.transform(userUnwatchedListWithAtLeastNRatings)\n",
    "predictedMovies = predictedMovies.dropna().cache() # drop all NaN prediction value to ensure not to have NaN RMSE (due to SPARK-14489)"
   ]
  },
  {
   "cell_type": "code",
   "execution_count": 43,
   "metadata": {},
   "outputs": [
    {
     "name": "stdout",
     "output_type": "stream",
     "text": [
      "Top 25 predicted movie with highest rating:\n",
      "+-------+----------------------------------------------------------+-------------------------+------+----------+\n",
      "|movieId|title                                                     |genres                   |userId|prediction|\n",
      "+-------+----------------------------------------------------------+-------------------------+------+----------+\n",
      "|159817 |Planet Earth (2006)                                       |Documentary              |1000  |4.3610063 |\n",
      "|142115 |The Blue Planet (2001)                                    |(no genres listed)       |1000  |4.24524   |\n",
      "|140265 |George Carlin: Jammin' in New York (1992)                 |Comedy                   |1000  |4.203937  |\n",
      "|858    |Godfather, The (1972)                                     |Crime|Drama              |1000  |4.1761856 |\n",
      "|162376 |Stranger Things                                           |Drama                    |1000  |4.1760488 |\n",
      "|160718 |Piper (2016)                                              |Animation                |1000  |4.174066  |\n",
      "|136445 |George Carlin: Back in Town (1996)                        |Comedy                   |1000  |4.17217   |\n",
      "|50     |Usual Suspects, The (1995)                                |Crime|Mystery|Thriller   |1000  |4.152311  |\n",
      "|106334 |Hollow Crown, The (2012)                                  |Drama                    |1000  |4.1440578 |\n",
      "|94466  |Black Mirror (2011)                                       |Drama|Sci-Fi             |1000  |4.1385717 |\n",
      "|100044 |Human Planet (2011)                                       |Documentary              |1000  |4.135102  |\n",
      "|160289 |O.J.: Made in America (2016)                              |Documentary              |1000  |4.124342  |\n",
      "|77658  |Cosmos (1980)                                             |Documentary              |1000  |4.1232314 |\n",
      "|136469 |Larry David: Curb Your Enthusiasm (1999)                  |(no genres listed)       |1000  |4.1190877 |\n",
      "|143990 |Little Dorrit (2008)                                      |Drama                    |1000  |4.1094975 |\n",
      "|100553 |Frozen Planet (2011)                                      |Documentary              |1000  |4.1075416 |\n",
      "|134849 |Duck Amuck (1953)                                         |Animation|Children|Comedy|1000  |4.107108  |\n",
      "|1221   |Godfather: Part II, The (1974)                            |Crime|Drama              |1000  |4.1032896 |\n",
      "|136447 |George Carlin: You Are All Diseased (1999)                |Comedy                   |1000  |4.0973754 |\n",
      "|7502   |Band of Brothers (2001)                                   |Action|Drama|War         |1000  |4.097333  |\n",
      "|2019   |Seven Samurai (Shichinin no samurai) (1954)               |Action|Adventure|Drama   |1000  |4.0919867 |\n",
      "|44555  |Lives of Others, The (Das leben der Anderen) (2006)       |Drama|Romance|Thriller   |1000  |4.0870023 |\n",
      "|1203   |12 Angry Men (1957)                                       |Drama                    |1000  |4.0855665 |\n",
      "|904    |Rear Window (1954)                                        |Mystery|Thriller         |1000  |4.0837283 |\n",
      "|132555 |Winning Time: Reggie Miller vs. The New York Knicks (2010)|Documentary              |1000  |4.0837016 |\n",
      "+-------+----------------------------------------------------------+-------------------------+------+----------+\n",
      "only showing top 25 rows\n",
      "\n",
      "Top 25 commedy with highest rating:\n",
      "+-------+--------------------------------------------------------------------------------+---------------------------------------+------+----------+\n",
      "|movieId|title                                                                           |genres                                 |userId|prediction|\n",
      "+-------+--------------------------------------------------------------------------------+---------------------------------------+------+----------+\n",
      "|140265 |George Carlin: Jammin' in New York (1992)                                       |Comedy                                 |1000  |4.203937  |\n",
      "|136445 |George Carlin: Back in Town (1996)                                              |Comedy                                 |1000  |4.17217   |\n",
      "|134849 |Duck Amuck (1953)                                                               |Animation|Children|Comedy              |1000  |4.107108  |\n",
      "|136447 |George Carlin: You Are All Diseased (1999)                                      |Comedy                                 |1000  |4.0973754 |\n",
      "|108583 |Fawlty Towers (1975-1979)                                                       |Comedy                                 |1000  |4.082955  |\n",
      "|107412 |Kidnapping, Caucasian Style (Kavkazskaya plennitsa) (1967)                      |Comedy|Romance                         |1000  |4.0656004 |\n",
      "|130347 |Bill Hicks: Sane Man (1989)                                                     |Comedy                                 |1000  |4.064912  |\n",
      "|5194   |Who's Singin' Over There? (a.k.a. Who Sings Over There) (Ko to tamo peva) (1980)|Comedy                                 |1000  |4.056657  |\n",
      "|27423  |O Auto da Compadecida (Dog's Will, A) (2000)                                    |Adventure|Comedy                       |1000  |4.044491  |\n",
      "|130970 |George Carlin: Life Is Worth Losing (2005)                                      |Comedy                                 |1000  |4.0377793 |\n",
      "|116897 |Wild Tales (2014)                                                               |Comedy|Drama|Thriller                  |1000  |4.0375977 |\n",
      "|750    |Dr. Strangelove or: How I Learned to Stop Worrying and Love the Bomb (1964)     |Comedy|War                             |1000  |4.032656  |\n",
      "|296    |Pulp Fiction (1994)                                                             |Comedy|Crime|Drama|Thriller            |1000  |4.0256987 |\n",
      "|1136   |Monty Python and the Holy Grail (1975)                                          |Adventure|Comedy|Fantasy               |1000  |4.0210137 |\n",
      "|4973   |Amelie (Fabuleux destin d'Amélie Poulain, Le) (2001)                            |Comedy|Romance                         |1000  |4.0192637 |\n",
      "|148881 |World of Tomorrow (2015)                                                        |Animation|Comedy                       |1000  |4.0181007 |\n",
      "|1234   |Sting, The (1973)                                                               |Comedy|Crime                           |1000  |4.0172763 |\n",
      "|60904  |Heart of a Dog (Sobachye serdtse) (1988)                                        |Comedy|Drama|Sci-Fi                    |1000  |4.0172615 |\n",
      "|1148   |Wallace & Gromit: The Wrong Trousers (1993)                                     |Animation|Children|Comedy|Crime        |1000  |4.017204  |\n",
      "|127052 |Operation 'Y' & Other Shurik's Adventures (1965)                                |Comedy|Crime|Romance                   |1000  |4.004046  |\n",
      "|745    |Wallace & Gromit: A Close Shave (1995)                                          |Animation|Children|Comedy              |1000  |3.9919164 |\n",
      "|33779  |Eddie Izzard: Dress to Kill (1999)                                              |Comedy                                 |1000  |3.989767  |\n",
      "|1197   |Princess Bride, The (1987)                                                      |Action|Adventure|Comedy|Fantasy|Romance|1000  |3.9885375 |\n",
      "|152970 |Hunt for the Wilderpeople (2016)                                                |Adventure|Comedy                       |1000  |3.98345   |\n",
      "|950    |Thin Man, The (1934)                                                            |Comedy|Crime                           |1000  |3.9832945 |\n",
      "+-------+--------------------------------------------------------------------------------+---------------------------------------+------+----------+\n",
      "only showing top 25 rows\n",
      "\n",
      "Top 25 Science Fiction with highest rating:\n",
      "+-------+--------------------------------------------------------------------+--------------------------------------------------+------+----------+\n",
      "|movieId|title                                                               |genres                                            |userId|prediction|\n",
      "+-------+--------------------------------------------------------------------+--------------------------------------------------+------+----------+\n",
      "|94466  |Black Mirror (2011)                                                 |Drama|Sci-Fi                                      |1000  |4.1385717 |\n",
      "|108979 |Cowboy Bebop (1998)                                                 |Action|Adventure|Animation|Crime|Sci-Fi           |1000  |4.047649  |\n",
      "|60904  |Heart of a Dog (Sobachye serdtse) (1988)                            |Comedy|Drama|Sci-Fi                               |1000  |4.0172615 |\n",
      "|1196   |Star Wars: Episode V - The Empire Strikes Back (1980)               |Action|Adventure|Sci-Fi                           |1000  |3.9970717 |\n",
      "|2571   |Matrix, The (1999)                                                  |Action|Sci-Fi|Thriller                            |1000  |3.9946177 |\n",
      "|260    |Star Wars: Episode IV - A New Hope (1977)                           |Action|Adventure|Sci-Fi                           |1000  |3.9816856 |\n",
      "|7099   |Nausicaä of the Valley of the Wind (Kaze no tani no Naushika) (1984)|Adventure|Animation|Drama|Fantasy|Sci-Fi          |1000  |3.9694734 |\n",
      "|541    |Blade Runner (1982)                                                 |Action|Sci-Fi|Thriller                            |1000  |3.9686534 |\n",
      "|79132  |Inception (2010)                                                    |Action|Crime|Drama|Mystery|Sci-Fi|Thriller|IMAX   |1000  |3.962945  |\n",
      "|135456 |Ghost in the Shell: Stand Alone Complex - The Laughing Man (2005)   |Action|Animation|Crime|Sci-Fi                     |1000  |3.9546578 |\n",
      "|132362 |Patlabor 2: The Movie (1993)                                        |Action|Animation|Sci-Fi                           |1000  |3.9491403 |\n",
      "|136449 |Ghost in the Shell 2.0 (2008)                                       |Action|Animation|Sci-Fi                           |1000  |3.9490924 |\n",
      "|6350   |Laputa: Castle in the Sky (Tenkû no shiro Rapyuta) (1986)           |Action|Adventure|Animation|Children|Fantasy|Sci-Fi|1000  |3.9434516 |\n",
      "|42351  |Threads (1984)                                                      |Drama|Sci-Fi|War                                  |1000  |3.937275  |\n",
      "|48780  |Prestige, The (2006)                                                |Drama|Mystery|Sci-Fi|Thriller                     |1000  |3.9161942 |\n",
      "|147384 |Doctor Who: The Runaway Bride (2007)                                |Sci-Fi                                            |1000  |3.909219  |\n",
      "|1214   |Alien (1979)                                                        |Horror|Sci-Fi                                     |1000  |3.904407  |\n",
      "|1223   |Grand Day Out with Wallace and Gromit, A (1989)                     |Adventure|Animation|Children|Comedy|Sci-Fi        |1000  |3.903686  |\n",
      "|68237  |Moon (2009)                                                         |Drama|Mystery|Sci-Fi|Thriller                     |1000  |3.8958397 |\n",
      "|99764  |It's Such a Beautiful Day (2012)                                    |Animation|Comedy|Drama|Fantasy|Sci-Fi             |1000  |3.8942459 |\n",
      "|36363  |Kin-Dza-Dza! (1986)                                                 |Comedy|Drama|Sci-Fi                               |1000  |3.890531  |\n",
      "|40697  |Babylon 5                                                           |Sci-Fi                                            |1000  |3.8881958 |\n",
      "|27611  |Battlestar Galactica (2003)                                         |Drama|Sci-Fi|War                                  |1000  |3.883587  |\n",
      "|118244 |Wanderers (2014)                                                    |Animation|Sci-Fi                                  |1000  |3.8835242 |\n",
      "|109487 |Interstellar (2014)                                                 |Sci-Fi|IMAX                                       |1000  |3.8761768 |\n",
      "+-------+--------------------------------------------------------------------+--------------------------------------------------+------+----------+\n",
      "only showing top 25 rows\n",
      "\n"
     ]
    }
   ],
   "source": [
    "print \"Top 25 predicted movie with highest rating:\"\n",
    "top25Movies = predictedMovies.orderBy('prediction', ascending = False).show(25, False)\n",
    "\n",
    "print \"Top 25 commedy with highest rating:\"\n",
    "top25Comedy = predictedMovies.filter(predictedMovies.genres.like(\"%Comedy%\")).orderBy('prediction', ascending = False).show(25, False)\n",
    "\n",
    "print \"Top 25 Science Fiction with highest rating:\"\n",
    "top25SciFi = predictedMovies.filter(predictedMovies.genres.like(\"%Sci-Fi%\")).orderBy('prediction', ascending = False).show(25, False)"
   ]
  },
  {
   "cell_type": "code",
   "execution_count": 44,
   "metadata": {},
   "outputs": [
    {
     "ename": "NameError",
     "evalue": "name 'ACCESS_KEY' is not defined",
     "output_type": "error",
     "traceback": [
      "\u001b[0;31m\u001b[0m",
      "\u001b[0;31mNameError\u001b[0mTraceback (most recent call last)",
      "\u001b[0;32m<ipython-input-44-f9a4d19c0e9f>\u001b[0m in \u001b[0;36m<module>\u001b[0;34m()\u001b[0m\n\u001b[1;32m      1\u001b[0m \u001b[0;31m# Save the trained model to S3\u001b[0m\u001b[0;34m\u001b[0m\u001b[0;34m\u001b[0m\u001b[0m\n\u001b[0;32m----> 2\u001b[0;31m \u001b[0mmodel\u001b[0m\u001b[0;34m.\u001b[0m\u001b[0msave\u001b[0m\u001b[0;34m(\u001b[0m\u001b[0;34m\"s3a://%s:%s@%s/%s\"\u001b[0m \u001b[0;34m%\u001b[0m \u001b[0;34m(\u001b[0m\u001b[0mACCESS_KEY\u001b[0m\u001b[0;34m,\u001b[0m \u001b[0mENCODED_SECRET_KEY\u001b[0m\u001b[0;34m,\u001b[0m \u001b[0mAWS_BUCKET_NAME\u001b[0m\u001b[0;34m,\u001b[0m \u001b[0;34m\"model\"\u001b[0m\u001b[0;34m)\u001b[0m\u001b[0;34m)\u001b[0m\u001b[0;34m\u001b[0m\u001b[0m\n\u001b[0m",
      "\u001b[0;31mNameError\u001b[0m: name 'ACCESS_KEY' is not defined"
     ]
    }
   ],
   "source": [
    "# Save the trained model to S3\n",
    "model.save(\"s3a://%s:%s@%s/%s\" % (ACCESS_KEY, ENCODED_SECRET_KEY, AWS_BUCKET_NAME, \"model\"))"
   ]
  },
  {
   "cell_type": "code",
   "execution_count": 46,
   "metadata": {},
   "outputs": [],
   "source": [
    "# Save the trained model to S3 for AWS EMR\n",
    "model.save(\"s3://%s/%s\" % (AWS_BUCKET_NAME, \"model1\"))"
   ]
  },
  {
   "cell_type": "code",
   "execution_count": 47,
   "metadata": {
    "collapsed": true
   },
   "outputs": [],
   "source": [
    "# Load model previous saved model\n",
    "from pyspark.ml.recommendation import ALSModel\n",
    "model = ALSModel.load(\"s3://%s/%s\" % (AWS_BUCKET_NAME, \"model1\"))"
   ]
  },
  {
   "cell_type": "code",
   "execution_count": null,
   "metadata": {
    "collapsed": true
   },
   "outputs": [],
   "source": []
  }
 ],
 "metadata": {
  "kernelspec": {
   "display_name": "Python 2",
   "language": "python",
   "name": "python2"
  },
  "language_info": {
   "codemirror_mode": {
    "name": "ipython",
    "version": 2
   },
   "file_extension": ".py",
   "mimetype": "text/x-python",
   "name": "python",
   "nbconvert_exporter": "python",
   "pygments_lexer": "ipython2",
   "version": "2.7.12"
  },
  "name": "movie-test",
  "notebookId": 3619855571353653
 },
 "nbformat": 4,
 "nbformat_minor": 1
}
